{
  "nbformat": 4,
  "nbformat_minor": 0,
  "metadata": {
    "colab": {
      "name": "python-5-03.ipynb",
      "provenance": [],
      "collapsed_sections": [],
      "toc_visible": true
    },
    "kernelspec": {
      "name": "python3",
      "display_name": "Python 3"
    }
  },
  "cells": [
    {
      "cell_type": "markdown",
      "metadata": {
        "id": "TLFqE7yIXbvy"
      },
      "source": [
        "# Cours de python\n"
      ]
    },
    {
      "cell_type": "markdown",
      "metadata": {
        "id": "LL7zgpoqdD2m"
      },
      "source": [
        "## syntaxe jupiter"
      ]
    },
    {
      "cell_type": "code",
      "metadata": {
        "colab": {
          "base_uri": "https://localhost:8080/"
        },
        "id": "wEZAqjkldZdW",
        "outputId": "12fc89cf-62d2-43a6-dc26-9c0dcb05e06e"
      },
      "source": [
        "print ('coucou')"
      ],
      "execution_count": null,
      "outputs": [
        {
          "output_type": "stream",
          "text": [
            "coucou\n"
          ],
          "name": "stdout"
        }
      ]
    },
    {
      "cell_type": "code",
      "metadata": {
        "colab": {
          "base_uri": "https://localhost:8080/"
        },
        "id": "AHam8N_4dj_i",
        "outputId": "be83f4ce-409f-4e01-a3a1-f365d3ecacde"
      },
      "source": [
        "a=2\n",
        "a"
      ],
      "execution_count": null,
      "outputs": [
        {
          "output_type": "execute_result",
          "data": {
            "text/plain": [
              "2"
            ]
          },
          "metadata": {
            "tags": []
          },
          "execution_count": 8
        }
      ]
    },
    {
      "cell_type": "markdown",
      "metadata": {
        "id": "kINw-iV6flJk"
      },
      "source": [
        "Entrer utilisateur"
      ]
    },
    {
      "cell_type": "code",
      "metadata": {
        "colab": {
          "base_uri": "https://localhost:8080/",
          "height": 54
        },
        "id": "XftpuGrxfKEP",
        "outputId": "7c9c5cfc-18bd-49c6-e23e-98c123978f2c"
      },
      "source": [
        "a = input()\n",
        "a\n",
        "\"\"\" Description du script\"\"\""
      ],
      "execution_count": null,
      "outputs": [
        {
          "output_type": "stream",
          "text": [
            "test\n"
          ],
          "name": "stdout"
        },
        {
          "output_type": "execute_result",
          "data": {
            "application/vnd.google.colaboratory.intrinsic+json": {
              "type": "string"
            },
            "text/plain": [
              "'test'"
            ]
          },
          "metadata": {
            "tags": []
          },
          "execution_count": 7
        }
      ]
    },
    {
      "cell_type": "markdown",
      "metadata": {
        "id": "7mJK3ZTIojSZ"
      },
      "source": [
        "## Algo"
      ]
    },
    {
      "cell_type": "markdown",
      "metadata": {
        "id": "5woZQfLwo2SX"
      },
      "source": [
        "### Exercice 1"
      ]
    },
    {
      "cell_type": "code",
      "metadata": {
        "colab": {
          "base_uri": "https://localhost:8080/"
        },
        "id": "SkZnJEm4o0db",
        "outputId": "e814136a-b51e-442d-da67-34e088f7adca"
      },
      "source": [
        "a = 1\n",
        "b = 2 \n",
        "c = a\n",
        "a = b\n",
        "b = c\n",
        "a,b"
      ],
      "execution_count": null,
      "outputs": [
        {
          "output_type": "execute_result",
          "data": {
            "text/plain": [
              "(2, 1)"
            ]
          },
          "metadata": {
            "tags": []
          },
          "execution_count": 11
        }
      ]
    },
    {
      "cell_type": "markdown",
      "metadata": {
        "id": "zWoEqQ1zpz27"
      },
      "source": [
        "### Exercice 2"
      ]
    },
    {
      "cell_type": "code",
      "metadata": {
        "colab": {
          "base_uri": "https://localhost:8080/"
        },
        "id": "TgwWQLInp_A0",
        "outputId": "2cfe4821-c6e0-4804-db01-faba44831d6a"
      },
      "source": [
        "a = input()\n",
        "s = int(a)*int(a)\n",
        "s"
      ],
      "execution_count": null,
      "outputs": [
        {
          "output_type": "stream",
          "text": [
            "4\n"
          ],
          "name": "stdout"
        },
        {
          "output_type": "execute_result",
          "data": {
            "text/plain": [
              "16"
            ]
          },
          "metadata": {
            "tags": []
          },
          "execution_count": 17
        }
      ]
    },
    {
      "cell_type": "markdown",
      "metadata": {
        "id": "W_3b21Opsvm1"
      },
      "source": [
        "### Exercice 3"
      ]
    },
    {
      "cell_type": "code",
      "metadata": {
        "colab": {
          "base_uri": "https://localhost:8080/"
        },
        "id": "1NH2Zjris1HP",
        "outputId": "341a99c0-ffb6-4ee5-9732-1e38b96196bd"
      },
      "source": [
        "a = input()\n",
        "if int(a) < 0 :\n",
        "  print('negatif')\n",
        "elif int(a) > 0 :\n",
        "  print('positif')\n",
        "else :\n",
        "  print(\"nombre non reconnu\")"
      ],
      "execution_count": null,
      "outputs": [
        {
          "output_type": "stream",
          "text": [
            "4\n",
            "positif\n"
          ],
          "name": "stdout"
        }
      ]
    },
    {
      "cell_type": "markdown",
      "metadata": {
        "id": "HJ_ZI9_WvIcz"
      },
      "source": [
        "### Exercice 4"
      ]
    },
    {
      "cell_type": "code",
      "metadata": {
        "colab": {
          "base_uri": "https://localhost:8080/"
        },
        "id": "3Ib674OTvSV2",
        "outputId": "dfd458b7-30a3-4fdc-ff38-a8dc53d53f3b"
      },
      "source": [
        "a = int(input())\n",
        "b = int(input())\n",
        "\n",
        "if a > 0 and b > 0 :\n",
        "  print('positif')\n",
        "elif a < 0 and b < 0 :\n",
        "  print('positif')\n",
        "else :\n",
        "  print('negatif')\n"
      ],
      "execution_count": null,
      "outputs": [
        {
          "output_type": "stream",
          "text": [
            "-4\n",
            "4\n",
            "negatif\n"
          ],
          "name": "stdout"
        }
      ]
    },
    {
      "cell_type": "markdown",
      "metadata": {
        "id": "1QwwLPPzxmjI"
      },
      "source": [
        "### Exercice 5"
      ]
    },
    {
      "cell_type": "code",
      "metadata": {
        "colab": {
          "base_uri": "https://localhost:8080/"
        },
        "id": "zV9YOuWFxr6_",
        "outputId": "2318e9f1-bf1a-4ba6-d209-97fec843a4d8"
      },
      "source": [
        "a = int(input())\n",
        "\n",
        "for loop in range(10):\n",
        "  a = a + 1\n",
        "  print(a)\n"
      ],
      "execution_count": null,
      "outputs": [
        {
          "output_type": "stream",
          "text": [
            "4\n",
            "5\n",
            "6\n",
            "7\n",
            "8\n",
            "9\n",
            "10\n",
            "11\n",
            "12\n",
            "13\n",
            "14\n"
          ],
          "name": "stdout"
        }
      ]
    },
    {
      "cell_type": "markdown",
      "metadata": {
        "id": "aqkr1jD2zpm7"
      },
      "source": [
        "### Exercice 6"
      ]
    },
    {
      "cell_type": "code",
      "metadata": {
        "colab": {
          "base_uri": "https://localhost:8080/"
        },
        "id": "NW1bfXkDz_jV",
        "outputId": "a94eff34-0fae-4565-9cc5-4cad8a237ea8"
      },
      "source": [
        "def test (a):\n",
        "    if(a != 1):\n",
        "        return test(a-1)+a\n",
        "    else:\n",
        "        return a\n",
        "\n",
        "test(5)"
      ],
      "execution_count": null,
      "outputs": [
        {
          "output_type": "execute_result",
          "data": {
            "text/plain": [
              "15"
            ]
          },
          "metadata": {
            "tags": []
          },
          "execution_count": 44
        }
      ]
    },
    {
      "cell_type": "markdown",
      "metadata": {
        "id": "cN2VX65y7EIr"
      },
      "source": [
        "### Exercice 7"
      ]
    },
    {
      "cell_type": "code",
      "metadata": {
        "colab": {
          "base_uri": "https://localhost:8080/"
        },
        "id": "CW-VkNjZ7N5X",
        "outputId": "5470fb54-0b35-4391-8914-700474c20dbb"
      },
      "source": [
        "liste1 = [5,6,1]\n",
        "s=0\n",
        "for i in range(len(liste1)) :\n",
        "    s=s+liste1[i]\n",
        "\n",
        "print(s)"
      ],
      "execution_count": null,
      "outputs": [
        {
          "output_type": "stream",
          "text": [
            "12\n"
          ],
          "name": "stdout"
        }
      ]
    },
    {
      "cell_type": "markdown",
      "metadata": {
        "id": "4ZgY8t-F8XUu"
      },
      "source": [
        "### Exercice 8"
      ]
    },
    {
      "cell_type": "code",
      "metadata": {
        "colab": {
          "base_uri": "https://localhost:8080/"
        },
        "id": "DT2HGo_P8lZs",
        "outputId": "f8ba3219-8da1-4c52-985a-0863cac0d4f7"
      },
      "source": [
        "liste1 =[1,2,3]\n",
        "liste2 =[4,6,7]\n",
        "liste3 = []\n",
        "\n",
        "for i,j in zip(liste1, liste2) :\n",
        "   liste3.append(i+j)\n",
        "\n",
        "print(liste3)\n"
      ],
      "execution_count": null,
      "outputs": [
        {
          "output_type": "stream",
          "text": [
            "[5, 8, 10]\n"
          ],
          "name": "stdout"
        }
      ]
    },
    {
      "cell_type": "markdown",
      "metadata": {
        "id": "ilHNgcr_QjTX"
      },
      "source": [
        "# Target somme"
      ]
    },
    {
      "cell_type": "code",
      "metadata": {
        "colab": {
          "base_uri": "https://localhost:8080/"
        },
        "id": "DmMeqOO7Qpko",
        "outputId": "f0a9cf0c-f0e0-46b6-f22b-e816226834f9"
      },
      "source": [
        "tab = [3, 5, -4, 8, 11, 1, -1,6]\n",
        "def targetSomme(tab,targetSomme):\n",
        "  for i in tab :\n",
        "    for j in tab :\n",
        "      if i + j == targetSomme and i !=j:\n",
        "        tabNumbers = [i,j] \n",
        "        return tabNumbers\n",
        "      else :\n",
        "        tabNumbers = [\"null\"]\n",
        "targetSomme(tab,10)"
      ],
      "execution_count": 27,
      "outputs": [
        {
          "output_type": "execute_result",
          "data": {
            "text/plain": [
              "[11, -1]"
            ]
          },
          "metadata": {
            "tags": []
          },
          "execution_count": 27
        }
      ]
    },
    {
      "cell_type": "markdown",
      "metadata": {
        "id": "jrWHFQSELtaB"
      },
      "source": [
        "Target somme V2"
      ]
    },
    {
      "cell_type": "code",
      "metadata": {
        "colab": {
          "base_uri": "https://localhost:8080/"
        },
        "id": "V2Tvn0HkLxHE",
        "outputId": "fc5b729a-a95c-4f3b-8986-1833b16bf758"
      },
      "source": [
        "def targetSomme(liste, target) :\n",
        "  dico = {}\n",
        "  for item in liste :\n",
        "    dico[target - item] = item\n",
        "    if (item in dico and dico[item]!=item) :\n",
        "      return [item,dico[item]]\n",
        "  return []\n",
        "targetSomme([3, 5, -4, 8, 11, 1, -1, 6], 10)"
      ],
      "execution_count": 7,
      "outputs": [
        {
          "output_type": "execute_result",
          "data": {
            "text/plain": [
              "[-1, 11]"
            ]
          },
          "metadata": {
            "tags": []
          },
          "execution_count": 7
        }
      ]
    },
    {
      "cell_type": "code",
      "metadata": {
        "colab": {
          "base_uri": "https://localhost:8080/"
        },
        "id": "EavKnbzKRfg5",
        "outputId": "bfdf579f-4d77-4ab8-ced4-14b971b06d86"
      },
      "source": [
        "def target_somme(array, targetSum):\n",
        "    #sol2 -> O(n) time | O(1) space \n",
        "    nums={}\n",
        "    for num in array:\n",
        "        tmp = targetSum - num \n",
        "        if tmp in nums: #recherche dans les clés de num\n",
        "            return [tmp,num]\n",
        "        else: \n",
        "            nums[num] = True\n",
        "        print(nums)\n",
        "    return []\n",
        "target_somme([3, 5, -4, 8, 11, 1, -1,6],10)"
      ],
      "execution_count": 5,
      "outputs": [
        {
          "output_type": "stream",
          "text": [
            "{3: True}\n",
            "{3: True, 5: True}\n",
            "{3: True, 5: True, -4: True}\n",
            "{3: True, 5: True, -4: True, 8: True}\n",
            "{3: True, 5: True, -4: True, 8: True, 11: True}\n",
            "{3: True, 5: True, -4: True, 8: True, 11: True, 1: True}\n"
          ],
          "name": "stdout"
        },
        {
          "output_type": "execute_result",
          "data": {
            "text/plain": [
              "[11, -1]"
            ]
          },
          "metadata": {
            "tags": []
          },
          "execution_count": 5
        }
      ]
    },
    {
      "cell_type": "markdown",
      "metadata": {
        "id": "wxTyc1ci9WhT"
      },
      "source": [
        "#La distance de Levenshtein"
      ]
    },
    {
      "cell_type": "code",
      "metadata": {
        "colab": {
          "base_uri": "https://localhost:8080/"
        },
        "id": "prSrsIIV9khd",
        "outputId": "9b5dd1bf-a23c-41a3-a6ab-adf1a850af50"
      },
      "source": [
        "str1 = \"chien\"\n",
        "str2 = \"niche\" #marche uniquement si les deux str son de la meme taille \n",
        "\n",
        "\n",
        "\n",
        "def distanceLevenchtein(str1, str2):\n",
        "\n",
        "  d = [[ j for j in range(len(str2)+1)]    for i in range(len(str1)+1)] # pour chaque y on fait chaque x soit on met str2 dans str1\n",
        "\n",
        "  for i in range(1,n+1):\n",
        "    d[i][0] = i\n",
        "\n",
        "  for i in range (1,len(str1)+1):\n",
        "    for j in range (1,len(str2)+1):\n",
        "\n",
        "      if str2[i-1] == str1[j-1]:\n",
        "        d[i][j] = d[i-1][j-1]\n",
        "      else:\n",
        "        d[i][j] = min(d[i][j-1], d[i-1][j],d[i-1][j-1])+1\n",
        "\n",
        "  return d[len(str2)][len(str1)]\n",
        "\n",
        "\n",
        "distanceLevenchtein(str1, str2)"
      ],
      "execution_count": 99,
      "outputs": [
        {
          "output_type": "execute_result",
          "data": {
            "text/plain": [
              "4"
            ]
          },
          "metadata": {
            "tags": []
          },
          "execution_count": 99
        }
      ]
    },
    {
      "cell_type": "markdown",
      "metadata": {
        "id": "DyZte3-tbN61"
      },
      "source": [
        "Test de levenshtein"
      ]
    },
    {
      "cell_type": "code",
      "metadata": {
        "colab": {
          "base_uri": "https://localhost:8080/",
          "height": 317
        },
        "id": "WMQ_k1s6bMyB",
        "outputId": "6acb1b9f-031e-497c-d55d-98921000aa81"
      },
      "source": [
        "str1 = \"gumbo\"\n",
        "str2 = \"gambol\"\n",
        "\n",
        "def distanceLevenchtein(str1, str2):\n",
        "\n",
        "  d = [[ x for x in range(len(str2)+1)]    for y in range(len(str1)+1)] # pour chaque y on fait chaque x soit on met str2 dans str1\n",
        "\n",
        "  for i in range(1,n+1):\n",
        "    d[i][0] = i\n",
        "\n",
        "  for i in range (1,len(str1)+1):\n",
        "    for j in range (1,len(str2)+1):\n",
        "      if len(str1)==len(str2) :\n",
        "        if str1[j-1] == str2[i-1] :\n",
        "          d[i][j] = d[i-1][j-1]\n",
        "        else:\n",
        "          d[i][j] = min(d[i][j-1], d[i-1][j],d[i-1][j-1])+1\n",
        "      else:\n",
        "        if len(str1) < len(str2) :\n",
        "          diff = len(str2) - len(str1)\n",
        "          if str1[j-1] == str2[i - diff] :\n",
        "            d[i][j] = d[i-1][j-1]\n",
        "          else:\n",
        "            d[i][j] = min(d[i][j-1], d[i-1][j],d[i-1][j-1])+1\n",
        "        else :\n",
        "          diff = len(str1) - len(str2)\n",
        "          if str1[j-diff] == str2[i -1] :\n",
        "            d[i][j] = d[i-1][j-1]\n",
        "          else:\n",
        "            d[i][j] = min(d[i][j-1], d[i-1][j],d[i-1][j-1])+1\n",
        "          \n",
        "\n",
        "    #return d[len(str2)][len(str1)]\n",
        "    return d\n",
        "\n",
        "\n",
        "distanceLevenchtein(str1, str2)"
      ],
      "execution_count": 89,
      "outputs": [
        {
          "output_type": "error",
          "ename": "IndexError",
          "evalue": "ignored",
          "traceback": [
            "\u001b[0;31m---------------------------------------------------------------------------\u001b[0m",
            "\u001b[0;31mIndexError\u001b[0m                                Traceback (most recent call last)",
            "\u001b[0;32m<ipython-input-89-8a933f158f19>\u001b[0m in \u001b[0;36m<module>\u001b[0;34m()\u001b[0m\n\u001b[1;32m     35\u001b[0m \u001b[0;34m\u001b[0m\u001b[0m\n\u001b[1;32m     36\u001b[0m \u001b[0;34m\u001b[0m\u001b[0m\n\u001b[0;32m---> 37\u001b[0;31m \u001b[0mdistanceLevenchtein\u001b[0m\u001b[0;34m(\u001b[0m\u001b[0mstr1\u001b[0m\u001b[0;34m,\u001b[0m \u001b[0mstr2\u001b[0m\u001b[0;34m)\u001b[0m\u001b[0;34m\u001b[0m\u001b[0;34m\u001b[0m\u001b[0m\n\u001b[0m",
            "\u001b[0;32m<ipython-input-89-8a933f158f19>\u001b[0m in \u001b[0;36mdistanceLevenchtein\u001b[0;34m(str1, str2)\u001b[0m\n\u001b[1;32m     19\u001b[0m         \u001b[0;32mif\u001b[0m \u001b[0mlen\u001b[0m\u001b[0;34m(\u001b[0m\u001b[0mstr1\u001b[0m\u001b[0;34m)\u001b[0m \u001b[0;34m<\u001b[0m \u001b[0mlen\u001b[0m\u001b[0;34m(\u001b[0m\u001b[0mstr2\u001b[0m\u001b[0;34m)\u001b[0m \u001b[0;34m:\u001b[0m\u001b[0;34m\u001b[0m\u001b[0;34m\u001b[0m\u001b[0m\n\u001b[1;32m     20\u001b[0m           \u001b[0mdiff\u001b[0m \u001b[0;34m=\u001b[0m \u001b[0mlen\u001b[0m\u001b[0;34m(\u001b[0m\u001b[0mstr2\u001b[0m\u001b[0;34m)\u001b[0m \u001b[0;34m-\u001b[0m \u001b[0mlen\u001b[0m\u001b[0;34m(\u001b[0m\u001b[0mstr1\u001b[0m\u001b[0;34m)\u001b[0m\u001b[0;34m\u001b[0m\u001b[0;34m\u001b[0m\u001b[0m\n\u001b[0;32m---> 21\u001b[0;31m           \u001b[0;32mif\u001b[0m \u001b[0mstr1\u001b[0m\u001b[0;34m[\u001b[0m\u001b[0mj\u001b[0m\u001b[0;34m-\u001b[0m\u001b[0;36m1\u001b[0m\u001b[0;34m]\u001b[0m \u001b[0;34m==\u001b[0m \u001b[0mstr2\u001b[0m\u001b[0;34m[\u001b[0m\u001b[0mi\u001b[0m \u001b[0;34m-\u001b[0m \u001b[0mdiff\u001b[0m\u001b[0;34m]\u001b[0m \u001b[0;34m:\u001b[0m\u001b[0;34m\u001b[0m\u001b[0;34m\u001b[0m\u001b[0m\n\u001b[0m\u001b[1;32m     22\u001b[0m             \u001b[0md\u001b[0m\u001b[0;34m[\u001b[0m\u001b[0mi\u001b[0m\u001b[0;34m]\u001b[0m\u001b[0;34m[\u001b[0m\u001b[0mj\u001b[0m\u001b[0;34m]\u001b[0m \u001b[0;34m=\u001b[0m \u001b[0md\u001b[0m\u001b[0;34m[\u001b[0m\u001b[0mi\u001b[0m\u001b[0;34m-\u001b[0m\u001b[0;36m1\u001b[0m\u001b[0;34m]\u001b[0m\u001b[0;34m[\u001b[0m\u001b[0mj\u001b[0m\u001b[0;34m-\u001b[0m\u001b[0;36m1\u001b[0m\u001b[0;34m]\u001b[0m\u001b[0;34m\u001b[0m\u001b[0;34m\u001b[0m\u001b[0m\n\u001b[1;32m     23\u001b[0m           \u001b[0;32melse\u001b[0m\u001b[0;34m:\u001b[0m\u001b[0;34m\u001b[0m\u001b[0;34m\u001b[0m\u001b[0m\n",
            "\u001b[0;31mIndexError\u001b[0m: string index out of range"
          ]
        }
      ]
    },
    {
      "cell_type": "code",
      "metadata": {
        "colab": {
          "base_uri": "https://localhost:8080/"
        },
        "id": "P5MXvOqrhSth",
        "outputId": "8ccdb069-8ba1-45b0-8c0e-0cf6caf40610"
      },
      "source": [
        "#Correction perso , marche avec tous \n",
        "str1 = \"gumbo\"\n",
        "str2 = \"gambol\"\n",
        "\n",
        "\n",
        "def distanceLevenchtein(str1, str2):\n",
        "\n",
        "  d = [[ j for j in range(len(str1)+1)]    for i in range(len(str2)+1)] # pour chaque y on fait chaque x soit on met str1 dans str2\n",
        "\n",
        "  for i in range(1,n+1):\n",
        "    d[i][0] = i\n",
        "\n",
        "  for i in range (1,len(str2)+1):\n",
        "    for j in range (1,len(str1)+1):\n",
        "\n",
        "      if str2[i-1] == str1[j-1]: # - 1 can len = +1\n",
        "\n",
        "        d[i][j] = d[i-1][j-1]\n",
        "      else:\n",
        "        d[i][j] = min(d[i][j-1], d[i-1][j],d[i-1][j-1])+1\n",
        "\n",
        "  return d[len(str2)][len(str1)]\n",
        "  \n",
        "\n",
        "distanceLevenchtein(str1, str2)"
      ],
      "execution_count": 100,
      "outputs": [
        {
          "output_type": "execute_result",
          "data": {
            "text/plain": [
              "4"
            ]
          },
          "metadata": {
            "tags": []
          },
          "execution_count": 100
        }
      ]
    },
    {
      "cell_type": "markdown",
      "metadata": {
        "id": "dcuoiSETNdCh"
      },
      "source": [
        "##Alimentation d'un tableau"
      ]
    },
    {
      "cell_type": "code",
      "metadata": {
        "colab": {
          "base_uri": "https://localhost:8080/"
        },
        "id": "l4bH4SHpNFGH",
        "outputId": "80e858b0-5c86-4319-cc11-d53636f66735"
      },
      "source": [
        "v=[]\n",
        "n=5\n",
        "for i in range(n):\n",
        "  v.append(i)\n",
        "\n",
        "v"
      ],
      "execution_count": 35,
      "outputs": [
        {
          "output_type": "execute_result",
          "data": {
            "text/plain": [
              "[0, 1, 2, 3, 4]"
            ]
          },
          "metadata": {
            "tags": []
          },
          "execution_count": 35
        }
      ]
    },
    {
      "cell_type": "code",
      "metadata": {
        "colab": {
          "base_uri": "https://localhost:8080/"
        },
        "id": "7yZJm_VbNPuu",
        "outputId": "76e68629-cc80-4a5f-bd4e-4d4912fb306f"
      },
      "source": [
        "l = [i for i in range(n)]\n",
        "l"
      ],
      "execution_count": 36,
      "outputs": [
        {
          "output_type": "execute_result",
          "data": {
            "text/plain": [
              "[0, 1, 2, 3, 4]"
            ]
          },
          "metadata": {
            "tags": []
          },
          "execution_count": 36
        }
      ]
    },
    {
      "cell_type": "code",
      "metadata": {
        "colab": {
          "base_uri": "https://localhost:8080/"
        },
        "id": "cYGvFBnRNlls",
        "outputId": "80ba45d6-7442-4101-e064-b0187a928794"
      },
      "source": [
        "l = [   []               for i in range(n+1)]\n",
        "l"
      ],
      "execution_count": 41,
      "outputs": [
        {
          "output_type": "execute_result",
          "data": {
            "text/plain": [
              "[[], [], [], [], [], []]"
            ]
          },
          "metadata": {
            "tags": []
          },
          "execution_count": 41
        }
      ]
    },
    {
      "cell_type": "code",
      "metadata": {
        "colab": {
          "base_uri": "https://localhost:8080/"
        },
        "id": "GVY9rZnvOfjF",
        "outputId": "c2b84be2-03cf-4be6-9809-059909bda851"
      },
      "source": [
        "d = [     [ x for x in range(n+1)]               for y in range(n+1)]\n",
        "d"
      ],
      "execution_count": 40,
      "outputs": [
        {
          "output_type": "execute_result",
          "data": {
            "text/plain": [
              "[[0, 1, 2, 3, 4, 5],\n",
              " [0, 1, 2, 3, 4, 5],\n",
              " [0, 1, 2, 3, 4, 5],\n",
              " [0, 1, 2, 3, 4, 5],\n",
              " [0, 1, 2, 3, 4, 5],\n",
              " [0, 1, 2, 3, 4, 5]]"
            ]
          },
          "metadata": {
            "tags": []
          },
          "execution_count": 40
        }
      ]
    },
    {
      "cell_type": "code",
      "metadata": {
        "colab": {
          "base_uri": "https://localhost:8080/"
        },
        "id": "g0H_GnwOPWkZ",
        "outputId": "ab841804-fe11-48bc-b712-b15b21e3cf7f"
      },
      "source": [
        "for i in range(1,n+1):\n",
        "  d[i][0] = i\n",
        "d"
      ],
      "execution_count": 44,
      "outputs": [
        {
          "output_type": "execute_result",
          "data": {
            "text/plain": [
              "[[0, 1, 2, 3, 4, 5],\n",
              " [1, 1, 2, 3, 4, 5],\n",
              " [2, 1, 2, 3, 4, 5],\n",
              " [3, 1, 2, 3, 4, 5],\n",
              " [4, 1, 2, 3, 4, 5],\n",
              " [5, 1, 2, 3, 4, 5]]"
            ]
          },
          "metadata": {
            "tags": []
          },
          "execution_count": 44
        }
      ]
    }
  ]
}