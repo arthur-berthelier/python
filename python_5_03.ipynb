{
  "nbformat": 4,
  "nbformat_minor": 0,
  "metadata": {
    "colab": {
      "name": "python-5-03.ipynb",
      "provenance": [],
      "collapsed_sections": [],
      "toc_visible": true
    },
    "kernelspec": {
      "name": "python3",
      "display_name": "Python 3"
    }
  },
  "cells": [
    {
      "cell_type": "markdown",
      "metadata": {
        "id": "TLFqE7yIXbvy"
      },
      "source": [
        "# Cours de python\n"
      ]
    },
    {
      "cell_type": "markdown",
      "metadata": {
        "id": "LL7zgpoqdD2m"
      },
      "source": [
        "## syntaxe jupiter"
      ]
    },
    {
      "cell_type": "code",
      "metadata": {
        "colab": {
          "base_uri": "https://localhost:8080/"
        },
        "id": "wEZAqjkldZdW",
        "outputId": "12fc89cf-62d2-43a6-dc26-9c0dcb05e06e"
      },
      "source": [
        "print ('coucou')"
      ],
      "execution_count": null,
      "outputs": [
        {
          "output_type": "stream",
          "text": [
            "coucou\n"
          ],
          "name": "stdout"
        }
      ]
    },
    {
      "cell_type": "code",
      "metadata": {
        "colab": {
          "base_uri": "https://localhost:8080/"
        },
        "id": "AHam8N_4dj_i",
        "outputId": "be83f4ce-409f-4e01-a3a1-f365d3ecacde"
      },
      "source": [
        "a=2\n",
        "a"
      ],
      "execution_count": null,
      "outputs": [
        {
          "output_type": "execute_result",
          "data": {
            "text/plain": [
              "2"
            ]
          },
          "metadata": {
            "tags": []
          },
          "execution_count": 8
        }
      ]
    },
    {
      "cell_type": "markdown",
      "metadata": {
        "id": "kINw-iV6flJk"
      },
      "source": [
        "Entrer utilisateur"
      ]
    },
    {
      "cell_type": "code",
      "metadata": {
        "colab": {
          "base_uri": "https://localhost:8080/",
          "height": 54
        },
        "id": "XftpuGrxfKEP",
        "outputId": "7c9c5cfc-18bd-49c6-e23e-98c123978f2c"
      },
      "source": [
        "a = input()\n",
        "a\n",
        "\"\"\" Description du script\"\"\""
      ],
      "execution_count": null,
      "outputs": [
        {
          "output_type": "stream",
          "text": [
            "test\n"
          ],
          "name": "stdout"
        },
        {
          "output_type": "execute_result",
          "data": {
            "application/vnd.google.colaboratory.intrinsic+json": {
              "type": "string"
            },
            "text/plain": [
              "'test'"
            ]
          },
          "metadata": {
            "tags": []
          },
          "execution_count": 7
        }
      ]
    },
    {
      "cell_type": "markdown",
      "metadata": {
        "id": "7mJK3ZTIojSZ"
      },
      "source": [
        "## Algo"
      ]
    },
    {
      "cell_type": "markdown",
      "metadata": {
        "id": "5woZQfLwo2SX"
      },
      "source": [
        "### Exercice 1"
      ]
    },
    {
      "cell_type": "code",
      "metadata": {
        "colab": {
          "base_uri": "https://localhost:8080/"
        },
        "id": "SkZnJEm4o0db",
        "outputId": "e814136a-b51e-442d-da67-34e088f7adca"
      },
      "source": [
        "a = 1\n",
        "b = 2 \n",
        "c = a\n",
        "a = b\n",
        "b = c\n",
        "a,b"
      ],
      "execution_count": null,
      "outputs": [
        {
          "output_type": "execute_result",
          "data": {
            "text/plain": [
              "(2, 1)"
            ]
          },
          "metadata": {
            "tags": []
          },
          "execution_count": 11
        }
      ]
    },
    {
      "cell_type": "markdown",
      "metadata": {
        "id": "zWoEqQ1zpz27"
      },
      "source": [
        "### Exercice 2"
      ]
    },
    {
      "cell_type": "code",
      "metadata": {
        "colab": {
          "base_uri": "https://localhost:8080/"
        },
        "id": "TgwWQLInp_A0",
        "outputId": "2cfe4821-c6e0-4804-db01-faba44831d6a"
      },
      "source": [
        "a = input()\n",
        "s = int(a)*int(a)\n",
        "s"
      ],
      "execution_count": null,
      "outputs": [
        {
          "output_type": "stream",
          "text": [
            "4\n"
          ],
          "name": "stdout"
        },
        {
          "output_type": "execute_result",
          "data": {
            "text/plain": [
              "16"
            ]
          },
          "metadata": {
            "tags": []
          },
          "execution_count": 17
        }
      ]
    },
    {
      "cell_type": "markdown",
      "metadata": {
        "id": "W_3b21Opsvm1"
      },
      "source": [
        "### Exercice 3"
      ]
    },
    {
      "cell_type": "code",
      "metadata": {
        "colab": {
          "base_uri": "https://localhost:8080/"
        },
        "id": "1NH2Zjris1HP",
        "outputId": "341a99c0-ffb6-4ee5-9732-1e38b96196bd"
      },
      "source": [
        "a = input()\n",
        "if int(a) < 0 :\n",
        "  print('negatif')\n",
        "elif int(a) > 0 :\n",
        "  print('positif')\n",
        "else :\n",
        "  print(\"nombre non reconnu\")"
      ],
      "execution_count": null,
      "outputs": [
        {
          "output_type": "stream",
          "text": [
            "4\n",
            "positif\n"
          ],
          "name": "stdout"
        }
      ]
    },
    {
      "cell_type": "markdown",
      "metadata": {
        "id": "HJ_ZI9_WvIcz"
      },
      "source": [
        "### Exercice 4"
      ]
    },
    {
      "cell_type": "code",
      "metadata": {
        "colab": {
          "base_uri": "https://localhost:8080/"
        },
        "id": "3Ib674OTvSV2",
        "outputId": "dfd458b7-30a3-4fdc-ff38-a8dc53d53f3b"
      },
      "source": [
        "a = int(input())\n",
        "b = int(input())\n",
        "\n",
        "if a > 0 and b > 0 :\n",
        "  print('positif')\n",
        "elif a < 0 and b < 0 :\n",
        "  print('positif')\n",
        "else :\n",
        "  print('negatif')\n"
      ],
      "execution_count": null,
      "outputs": [
        {
          "output_type": "stream",
          "text": [
            "-4\n",
            "4\n",
            "negatif\n"
          ],
          "name": "stdout"
        }
      ]
    },
    {
      "cell_type": "markdown",
      "metadata": {
        "id": "1QwwLPPzxmjI"
      },
      "source": [
        "### Exercice 5"
      ]
    },
    {
      "cell_type": "code",
      "metadata": {
        "colab": {
          "base_uri": "https://localhost:8080/"
        },
        "id": "zV9YOuWFxr6_",
        "outputId": "2318e9f1-bf1a-4ba6-d209-97fec843a4d8"
      },
      "source": [
        "a = int(input())\n",
        "\n",
        "for loop in range(10):\n",
        "  a = a + 1\n",
        "  print(a)\n"
      ],
      "execution_count": null,
      "outputs": [
        {
          "output_type": "stream",
          "text": [
            "4\n",
            "5\n",
            "6\n",
            "7\n",
            "8\n",
            "9\n",
            "10\n",
            "11\n",
            "12\n",
            "13\n",
            "14\n"
          ],
          "name": "stdout"
        }
      ]
    },
    {
      "cell_type": "markdown",
      "metadata": {
        "id": "aqkr1jD2zpm7"
      },
      "source": [
        "### Exercice 6"
      ]
    },
    {
      "cell_type": "code",
      "metadata": {
        "colab": {
          "base_uri": "https://localhost:8080/"
        },
        "id": "NW1bfXkDz_jV",
        "outputId": "a94eff34-0fae-4565-9cc5-4cad8a237ea8"
      },
      "source": [
        "def test (a):\n",
        "    if(a != 1):\n",
        "        return test(a-1)+a\n",
        "    else:\n",
        "        return a\n",
        "\n",
        "test(5)"
      ],
      "execution_count": null,
      "outputs": [
        {
          "output_type": "execute_result",
          "data": {
            "text/plain": [
              "15"
            ]
          },
          "metadata": {
            "tags": []
          },
          "execution_count": 44
        }
      ]
    },
    {
      "cell_type": "markdown",
      "metadata": {
        "id": "cN2VX65y7EIr"
      },
      "source": [
        "### Exercice 7"
      ]
    },
    {
      "cell_type": "code",
      "metadata": {
        "colab": {
          "base_uri": "https://localhost:8080/"
        },
        "id": "CW-VkNjZ7N5X",
        "outputId": "5470fb54-0b35-4391-8914-700474c20dbb"
      },
      "source": [
        "liste1 = [5,6,1]\n",
        "s=0\n",
        "for i in range(len(liste1)) :\n",
        "    s=s+liste1[i]\n",
        "\n",
        "print(s)"
      ],
      "execution_count": null,
      "outputs": [
        {
          "output_type": "stream",
          "text": [
            "12\n"
          ],
          "name": "stdout"
        }
      ]
    },
    {
      "cell_type": "markdown",
      "metadata": {
        "id": "4ZgY8t-F8XUu"
      },
      "source": [
        "### Exercice 8"
      ]
    },
    {
      "cell_type": "code",
      "metadata": {
        "colab": {
          "base_uri": "https://localhost:8080/"
        },
        "id": "DT2HGo_P8lZs",
        "outputId": "f8ba3219-8da1-4c52-985a-0863cac0d4f7"
      },
      "source": [
        "liste1 =[1,2,3]\n",
        "liste2 =[4,6,7]\n",
        "liste3 = []\n",
        "\n",
        "for i,j in zip(liste1, liste2) :\n",
        "   liste3.append(i+j)\n",
        "\n",
        "print(liste3)\n"
      ],
      "execution_count": null,
      "outputs": [
        {
          "output_type": "stream",
          "text": [
            "[5, 8, 10]\n"
          ],
          "name": "stdout"
        }
      ]
    },
    {
      "cell_type": "markdown",
      "metadata": {
        "id": "ilHNgcr_QjTX"
      },
      "source": [
        "# Target somme"
      ]
    },
    {
      "cell_type": "code",
      "metadata": {
        "colab": {
          "base_uri": "https://localhost:8080/"
        },
        "id": "DmMeqOO7Qpko",
        "outputId": "f0a9cf0c-f0e0-46b6-f22b-e816226834f9"
      },
      "source": [
        "tab = [3, 5, -4, 8, 11, 1, -1,6]\n",
        "def targetSomme(tab,targetSomme):\n",
        "  for i in tab :\n",
        "    for j in tab :\n",
        "      if i + j == targetSomme and i !=j:\n",
        "        tabNumbers = [i,j] \n",
        "        return tabNumbers\n",
        "      else :\n",
        "        tabNumbers = [\"null\"]\n",
        "targetSomme(tab,10)"
      ],
      "execution_count": null,
      "outputs": [
        {
          "output_type": "execute_result",
          "data": {
            "text/plain": [
              "[11, -1]"
            ]
          },
          "metadata": {
            "tags": []
          },
          "execution_count": 27
        }
      ]
    },
    {
      "cell_type": "markdown",
      "metadata": {
        "id": "jrWHFQSELtaB"
      },
      "source": [
        "Target somme V2"
      ]
    },
    {
      "cell_type": "code",
      "metadata": {
        "colab": {
          "base_uri": "https://localhost:8080/"
        },
        "id": "V2Tvn0HkLxHE",
        "outputId": "fc5b729a-a95c-4f3b-8986-1833b16bf758"
      },
      "source": [
        "def targetSomme(liste, target) :\n",
        "  dico = {}\n",
        "  for item in liste :\n",
        "    dico[target - item] = item\n",
        "    if (item in dico and dico[item]!=item) :\n",
        "      return [item,dico[item]]\n",
        "  return []\n",
        "targetSomme([3, 5, -4, 8, 11, 1, -1, 6], 10)"
      ],
      "execution_count": null,
      "outputs": [
        {
          "output_type": "execute_result",
          "data": {
            "text/plain": [
              "[-1, 11]"
            ]
          },
          "metadata": {
            "tags": []
          },
          "execution_count": 7
        }
      ]
    },
    {
      "cell_type": "code",
      "metadata": {
        "colab": {
          "base_uri": "https://localhost:8080/"
        },
        "id": "EavKnbzKRfg5",
        "outputId": "bfdf579f-4d77-4ab8-ced4-14b971b06d86"
      },
      "source": [
        "def target_somme(array, targetSum):\n",
        "    #sol2 -> O(n) time | O(1) space \n",
        "    nums={}\n",
        "    for num in array:\n",
        "        tmp = targetSum - num \n",
        "        if tmp in nums: #recherche dans les clés de num\n",
        "            return [tmp,num]\n",
        "        else: \n",
        "            nums[num] = True\n",
        "        print(nums)\n",
        "    return []\n",
        "target_somme([3, 5, -4, 8, 11, 1, -1,6],10)"
      ],
      "execution_count": null,
      "outputs": [
        {
          "output_type": "stream",
          "text": [
            "{3: True}\n",
            "{3: True, 5: True}\n",
            "{3: True, 5: True, -4: True}\n",
            "{3: True, 5: True, -4: True, 8: True}\n",
            "{3: True, 5: True, -4: True, 8: True, 11: True}\n",
            "{3: True, 5: True, -4: True, 8: True, 11: True, 1: True}\n"
          ],
          "name": "stdout"
        },
        {
          "output_type": "execute_result",
          "data": {
            "text/plain": [
              "[11, -1]"
            ]
          },
          "metadata": {
            "tags": []
          },
          "execution_count": 5
        }
      ]
    },
    {
      "cell_type": "markdown",
      "metadata": {
        "id": "wxTyc1ci9WhT"
      },
      "source": [
        "#La distance de Levenshtein"
      ]
    },
    {
      "cell_type": "code",
      "metadata": {
        "colab": {
          "base_uri": "https://localhost:8080/"
        },
        "id": "prSrsIIV9khd",
        "outputId": "22cd3adc-92a3-4883-cb7e-06671aaa94fb"
      },
      "source": [
        "str1 = \"chien\"\n",
        "str2 = \"niche\" #marche uniquement si les deux str son de la meme taille \n",
        "\n",
        "n = len(str1)\n",
        "\n",
        "def distanceLevenchtein(str1, str2):\n",
        "\n",
        "  d = [[ j for j in range(len(str2)+1)]    for i in range(len(str1)+1)] # pour chaque y on fait chaque x soit on met str2 dans str1\n",
        "\n",
        "  for i in range(1,n+1):\n",
        "    d[i][0] = i\n",
        "\n",
        "  for i in range (1,len(str1)+1):\n",
        "    for j in range (1,len(str2)+1):\n",
        "\n",
        "      if str2[i-1] == str1[j-1]:\n",
        "        d[i][j] = d[i-1][j-1]\n",
        "      else:\n",
        "        d[i][j] = min(d[i][j-1], d[i-1][j],d[i-1][j-1])+1\n",
        "  print(d)\n",
        "  return d[len(str2)][len(str1)]\n",
        "\n",
        "\n",
        "distanceLevenchtein(str1, str2)"
      ],
      "execution_count": null,
      "outputs": [
        {
          "output_type": "stream",
          "text": [
            "[[0, 1, 2, 3, 4, 5], [1, 1, 2, 3, 4, 4], [2, 2, 2, 2, 3, 4], [3, 2, 3, 3, 3, 4], [4, 3, 2, 3, 4, 4], [5, 4, 3, 3, 3, 4]]\n"
          ],
          "name": "stdout"
        },
        {
          "output_type": "execute_result",
          "data": {
            "text/plain": [
              "4"
            ]
          },
          "metadata": {
            "tags": []
          },
          "execution_count": 42
        }
      ]
    },
    {
      "cell_type": "markdown",
      "metadata": {
        "id": "DyZte3-tbN61"
      },
      "source": [
        "Test de levenshtein"
      ]
    },
    {
      "cell_type": "code",
      "metadata": {
        "colab": {
          "base_uri": "https://localhost:8080/",
          "height": 317
        },
        "id": "WMQ_k1s6bMyB",
        "outputId": "6acb1b9f-031e-497c-d55d-98921000aa81"
      },
      "source": [
        "str1 = \"gumbo\"\n",
        "str2 = \"gambol\"\n",
        "\n",
        "def distanceLevenchtein(str1, str2):\n",
        "\n",
        "  d = [[ x for x in range(len(str2)+1)]    for y in range(len(str1)+1)] # pour chaque y on fait chaque x soit on met str2 dans str1\n",
        "\n",
        "  for i in range(1,n+1):\n",
        "    d[i][0] = i\n",
        "\n",
        "  for i in range (1,len(str1)+1):\n",
        "    for j in range (1,len(str2)+1):\n",
        "      if len(str1)==len(str2) :\n",
        "        if str1[j-1] == str2[i-1] :\n",
        "          d[i][j] = d[i-1][j-1]\n",
        "        else:\n",
        "          d[i][j] = min(d[i][j-1], d[i-1][j],d[i-1][j-1])+1\n",
        "      else:\n",
        "        if len(str1) < len(str2) :\n",
        "          diff = len(str2) - len(str1)\n",
        "          if str1[j-1] == str2[i - diff] :\n",
        "            d[i][j] = d[i-1][j-1]\n",
        "          else:\n",
        "            d[i][j] = min(d[i][j-1], d[i-1][j],d[i-1][j-1])+1\n",
        "        else :\n",
        "          diff = len(str1) - len(str2)\n",
        "          if str1[j-diff] == str2[i -1] :\n",
        "            d[i][j] = d[i-1][j-1]\n",
        "          else:\n",
        "            d[i][j] = min(d[i][j-1], d[i-1][j],d[i-1][j-1])+1\n",
        "          \n",
        "\n",
        "    #return d[len(str2)][len(str1)]\n",
        "    return d\n",
        "\n",
        "\n",
        "distanceLevenchtein(str1, str2)"
      ],
      "execution_count": null,
      "outputs": [
        {
          "output_type": "error",
          "ename": "IndexError",
          "evalue": "ignored",
          "traceback": [
            "\u001b[0;31m---------------------------------------------------------------------------\u001b[0m",
            "\u001b[0;31mIndexError\u001b[0m                                Traceback (most recent call last)",
            "\u001b[0;32m<ipython-input-89-8a933f158f19>\u001b[0m in \u001b[0;36m<module>\u001b[0;34m()\u001b[0m\n\u001b[1;32m     35\u001b[0m \u001b[0;34m\u001b[0m\u001b[0m\n\u001b[1;32m     36\u001b[0m \u001b[0;34m\u001b[0m\u001b[0m\n\u001b[0;32m---> 37\u001b[0;31m \u001b[0mdistanceLevenchtein\u001b[0m\u001b[0;34m(\u001b[0m\u001b[0mstr1\u001b[0m\u001b[0;34m,\u001b[0m \u001b[0mstr2\u001b[0m\u001b[0;34m)\u001b[0m\u001b[0;34m\u001b[0m\u001b[0;34m\u001b[0m\u001b[0m\n\u001b[0m",
            "\u001b[0;32m<ipython-input-89-8a933f158f19>\u001b[0m in \u001b[0;36mdistanceLevenchtein\u001b[0;34m(str1, str2)\u001b[0m\n\u001b[1;32m     19\u001b[0m         \u001b[0;32mif\u001b[0m \u001b[0mlen\u001b[0m\u001b[0;34m(\u001b[0m\u001b[0mstr1\u001b[0m\u001b[0;34m)\u001b[0m \u001b[0;34m<\u001b[0m \u001b[0mlen\u001b[0m\u001b[0;34m(\u001b[0m\u001b[0mstr2\u001b[0m\u001b[0;34m)\u001b[0m \u001b[0;34m:\u001b[0m\u001b[0;34m\u001b[0m\u001b[0;34m\u001b[0m\u001b[0m\n\u001b[1;32m     20\u001b[0m           \u001b[0mdiff\u001b[0m \u001b[0;34m=\u001b[0m \u001b[0mlen\u001b[0m\u001b[0;34m(\u001b[0m\u001b[0mstr2\u001b[0m\u001b[0;34m)\u001b[0m \u001b[0;34m-\u001b[0m \u001b[0mlen\u001b[0m\u001b[0;34m(\u001b[0m\u001b[0mstr1\u001b[0m\u001b[0;34m)\u001b[0m\u001b[0;34m\u001b[0m\u001b[0;34m\u001b[0m\u001b[0m\n\u001b[0;32m---> 21\u001b[0;31m           \u001b[0;32mif\u001b[0m \u001b[0mstr1\u001b[0m\u001b[0;34m[\u001b[0m\u001b[0mj\u001b[0m\u001b[0;34m-\u001b[0m\u001b[0;36m1\u001b[0m\u001b[0;34m]\u001b[0m \u001b[0;34m==\u001b[0m \u001b[0mstr2\u001b[0m\u001b[0;34m[\u001b[0m\u001b[0mi\u001b[0m \u001b[0;34m-\u001b[0m \u001b[0mdiff\u001b[0m\u001b[0;34m]\u001b[0m \u001b[0;34m:\u001b[0m\u001b[0;34m\u001b[0m\u001b[0;34m\u001b[0m\u001b[0m\n\u001b[0m\u001b[1;32m     22\u001b[0m             \u001b[0md\u001b[0m\u001b[0;34m[\u001b[0m\u001b[0mi\u001b[0m\u001b[0;34m]\u001b[0m\u001b[0;34m[\u001b[0m\u001b[0mj\u001b[0m\u001b[0;34m]\u001b[0m \u001b[0;34m=\u001b[0m \u001b[0md\u001b[0m\u001b[0;34m[\u001b[0m\u001b[0mi\u001b[0m\u001b[0;34m-\u001b[0m\u001b[0;36m1\u001b[0m\u001b[0;34m]\u001b[0m\u001b[0;34m[\u001b[0m\u001b[0mj\u001b[0m\u001b[0;34m-\u001b[0m\u001b[0;36m1\u001b[0m\u001b[0;34m]\u001b[0m\u001b[0;34m\u001b[0m\u001b[0;34m\u001b[0m\u001b[0m\n\u001b[1;32m     23\u001b[0m           \u001b[0;32melse\u001b[0m\u001b[0;34m:\u001b[0m\u001b[0;34m\u001b[0m\u001b[0;34m\u001b[0m\u001b[0m\n",
            "\u001b[0;31mIndexError\u001b[0m: string index out of range"
          ]
        }
      ]
    },
    {
      "cell_type": "code",
      "metadata": {
        "colab": {
          "base_uri": "https://localhost:8080/"
        },
        "id": "P5MXvOqrhSth",
        "outputId": "ed60fe2e-77a6-4bb8-d750-182033819b21"
      },
      "source": [
        "#Correction perso , marche avec tous \n",
        "str1 = \"gumbo\"\n",
        "str2 = \"gambol\"\n",
        "\n",
        "def distanceLevenchtein(str1, str2):\n",
        "\n",
        "  d = [[ j for j in range(len(str1)+1)]    for i in range(len(str2)+1)] # pour chaque y on fait chaque x soit on met str1 dans str2\n",
        "\n",
        "  for i in range(1,len(str1)+1):\n",
        "    d[i][0] = i\n",
        "\n",
        "  for i in range (1,len(str2)+1):\n",
        "    for j in range (1,len(str1)+1):\n",
        "\n",
        "      if str2[i-1] == str1[j-1]: # - 1 can len = +1\n",
        "\n",
        "        d[i][j] = d[i-1][j-1]\n",
        "      else:\n",
        "        d[i][j] = min(d[i][j-1], d[i-1][j],d[i-1][j-1])+1\n",
        "  print(d)\n",
        "  return d[len(str2)][len(str1)]\n",
        "  \n",
        "\n",
        "distanceLevenchtein(str1, str2)\n"
      ],
      "execution_count": null,
      "outputs": [
        {
          "output_type": "stream",
          "text": [
            "[[0, 1, 2, 3, 4, 5], [1, 0, 1, 2, 3, 4], [2, 1, 1, 2, 3, 4], [3, 2, 2, 1, 2, 3], [4, 3, 3, 2, 1, 2], [5, 4, 4, 3, 2, 1], [0, 1, 2, 3, 3, 2]]\n"
          ],
          "name": "stdout"
        },
        {
          "output_type": "execute_result",
          "data": {
            "text/plain": [
              "2"
            ]
          },
          "metadata": {
            "tags": []
          },
          "execution_count": 41
        }
      ]
    },
    {
      "cell_type": "markdown",
      "metadata": {
        "id": "dcuoiSETNdCh"
      },
      "source": [
        "##Alimentation d'un tableau"
      ]
    },
    {
      "cell_type": "code",
      "metadata": {
        "colab": {
          "base_uri": "https://localhost:8080/"
        },
        "id": "l4bH4SHpNFGH",
        "outputId": "7b30f178-f367-4617-cd8b-ece7cb0eb666"
      },
      "source": [
        "v=[]\n",
        "n=5\n",
        "for i in range(n):\n",
        "  v.append(i)\n",
        "\n",
        "v"
      ],
      "execution_count": null,
      "outputs": [
        {
          "output_type": "execute_result",
          "data": {
            "text/plain": [
              "[0, 1, 2, 3, 4]"
            ]
          },
          "metadata": {
            "tags": []
          },
          "execution_count": 1
        }
      ]
    },
    {
      "cell_type": "code",
      "metadata": {
        "colab": {
          "base_uri": "https://localhost:8080/"
        },
        "id": "7yZJm_VbNPuu",
        "outputId": "d4eb420d-0b1e-4639-a5a0-2a36118cd618"
      },
      "source": [
        "l = [i for i in range(n)]\n",
        "l"
      ],
      "execution_count": null,
      "outputs": [
        {
          "output_type": "execute_result",
          "data": {
            "text/plain": [
              "[0, 1, 2, 3, 4]"
            ]
          },
          "metadata": {
            "tags": []
          },
          "execution_count": 2
        }
      ]
    },
    {
      "cell_type": "code",
      "metadata": {
        "colab": {
          "base_uri": "https://localhost:8080/"
        },
        "id": "cYGvFBnRNlls",
        "outputId": "9dd4c132-9ed8-4299-e40c-fbeb3100db19"
      },
      "source": [
        "l = [   []               for i in range(n+1)]\n",
        "l"
      ],
      "execution_count": null,
      "outputs": [
        {
          "output_type": "execute_result",
          "data": {
            "text/plain": [
              "[[], [], [], [], [], []]"
            ]
          },
          "metadata": {
            "tags": []
          },
          "execution_count": 3
        }
      ]
    },
    {
      "cell_type": "code",
      "metadata": {
        "colab": {
          "base_uri": "https://localhost:8080/"
        },
        "id": "GVY9rZnvOfjF",
        "outputId": "5ec13c3e-5a58-4d58-abd3-492cdc4c7ed3"
      },
      "source": [
        "d = [     [ x for x in range(n+1)]               for y in range(n+1)]\n",
        "d"
      ],
      "execution_count": null,
      "outputs": [
        {
          "output_type": "execute_result",
          "data": {
            "text/plain": [
              "[[0, 1, 2, 3, 4, 5],\n",
              " [0, 1, 2, 3, 4, 5],\n",
              " [0, 1, 2, 3, 4, 5],\n",
              " [0, 1, 2, 3, 4, 5],\n",
              " [0, 1, 2, 3, 4, 5],\n",
              " [0, 1, 2, 3, 4, 5]]"
            ]
          },
          "metadata": {
            "tags": []
          },
          "execution_count": 4
        }
      ]
    },
    {
      "cell_type": "code",
      "metadata": {
        "colab": {
          "base_uri": "https://localhost:8080/"
        },
        "id": "g0H_GnwOPWkZ",
        "outputId": "3447cfed-234c-4b7f-b3b1-c8b819daee94"
      },
      "source": [
        "for i in range(1,n+1):\n",
        "  d[i][0] = i\n",
        "d"
      ],
      "execution_count": null,
      "outputs": [
        {
          "output_type": "execute_result",
          "data": {
            "text/plain": [
              "[[0, 1, 2, 3, 4, 5],\n",
              " [1, 1, 2, 3, 4, 5],\n",
              " [2, 1, 2, 3, 4, 5],\n",
              " [3, 1, 2, 3, 4, 5],\n",
              " [4, 1, 2, 3, 4, 5],\n",
              " [5, 1, 2, 3, 4, 5]]"
            ]
          },
          "metadata": {
            "tags": []
          },
          "execution_count": 5
        }
      ]
    },
    {
      "cell_type": "markdown",
      "metadata": {
        "id": "0bufmC-ALfzP"
      },
      "source": [
        ""
      ]
    },
    {
      "cell_type": "markdown",
      "metadata": {
        "id": "PT3YZc8jLhRK"
      },
      "source": [
        "##Exercices de POO\n"
      ]
    },
    {
      "cell_type": "code",
      "metadata": {
        "colab": {
          "base_uri": "https://localhost:8080/"
        },
        "id": "9LTnrDXCLqbM",
        "outputId": "34ebb187-1f3f-40b8-bfcd-cb49abc40ae0"
      },
      "source": [
        "class CompteBancaire():\n",
        "  def __init__(self,name=\"Dupond\", solde=1000):\n",
        "    self.name = name\n",
        "    self.solde = solde\n",
        "\n",
        "  def affiche(self):\n",
        "    print (\"Affichage du compte de l'utilisateur\")\n",
        "    print (\"Le solde du compte bancaire de \" + self.name + \" est de \" + str(self.solde) +\" euros\")\n",
        "  \n",
        "\n",
        "  def depot(self, somme):\n",
        "    print (\"Augmentation du solde de l'utilisateur\")\n",
        "    self.solde  =  self.solde + somme\n",
        "    return self.solde\n",
        "          \n",
        "\n",
        "  def retrait(self, somme):\n",
        "    print (\"Diminution du solde de l'utilisateur\")\n",
        "    self.solde  =  self.solde - somme\n",
        "    return self.solde\n",
        "\n",
        "\n",
        "compte1 = CompteBancaire('Duchmol',800)\n",
        "compte1.depot(400)\n",
        "compte1.retrait(100)\n",
        "compte1.affiche()\n",
        "\n",
        "compte2 = CompteBancaire()\n",
        "compte2.depot(25)\n",
        "compte2.affiche()"
      ],
      "execution_count": null,
      "outputs": [
        {
          "output_type": "stream",
          "text": [
            "Changement du solde de l'utilisateur\n",
            "Changement du solde de l'utilisateur\n",
            "Affichage du compte de l'utilisateur\n",
            "Le solde du compte bancaire de Duchmol est de 1100 euros\n",
            "Changement du solde de l'utilisateur\n",
            "Affichage du compte de l'utilisateur\n",
            "Le solde du compte bancaire de Dupond est de 1025 euros\n"
          ],
          "name": "stdout"
        }
      ]
    },
    {
      "cell_type": "code",
      "metadata": {
        "colab": {
          "base_uri": "https://localhost:8080/",
          "height": 37
        },
        "id": "_aNhjOBdF6I1",
        "outputId": "9a6e8472-500b-4189-ed1a-9414ff423fbb"
      },
      "source": [
        "#Correction\n",
        "class Point():\n",
        "  def __init__(self,x,y,z=None):\n",
        "    self.x=x\n",
        "    self.y=y\n",
        "    self.z=z if z is not None else None\n",
        "\n",
        "  def ToString(self):\n",
        "    if (self.z is not None) :\n",
        "      return \"P(\"+str(\"{:.2f}\".format(self.x))  +\",\"+str(\"{:.2f}\".format(self.y)) +\",\"+str(\"{:.2f}\".format(self.z)) +\")\"\n",
        "    else :\n",
        "      return \"P(\"+str(\"{:.2f}\".format(self.x))  +\",\"+str(\"{:.2f}\".format(self.y)) +\")\"\n",
        "\n",
        "p1 = Point(1,3,6)\n",
        "p1.ToString()"
      ],
      "execution_count": null,
      "outputs": [
        {
          "output_type": "execute_result",
          "data": {
            "application/vnd.google.colaboratory.intrinsic+json": {
              "type": "string"
            },
            "text/plain": [
              "'P(1.00,3.00,6.00)'"
            ]
          },
          "metadata": {
            "tags": []
          },
          "execution_count": 59
        }
      ]
    },
    {
      "cell_type": "code",
      "metadata": {
        "colab": {
          "base_uri": "https://localhost:8080/"
        },
        "id": "Bx7l6YyoX8p3",
        "outputId": "c54889ac-d3b0-4103-ffd6-8fb23f4a6638"
      },
      "source": [
        "class Point():\n",
        "  def __init__(self,x, y, z=0):\n",
        "    self.x = x\n",
        "    self.y = y\n",
        "    self.z = z\n",
        "\n",
        "  def ToString(self):\n",
        "    print (\"Affichage du compte de l'utilisateur\")\n",
        "    if self.z==0 :\n",
        "      return print (\"Les coordonées du point sont ( \" + str(\"{:.2f}\".format(self.x)) + \",\" + str(\"{:.2f}\".format(self.y))+ \" )\")\n",
        "    else :\n",
        "      return print (\"Les coordonées du point sont ( \" + str(\"{:.2f}\".format(self.x)) + \",\" + str(\"{:.2f}\".format(self.y)) + \",\" + str(\"{:.2f}\".format(self.z)) + \" )\")\n",
        "\n",
        "\n",
        "  def __repr__(self):\n",
        "    if self.z==0 :\n",
        "      return \"x: {:.2f}, y: {:.2f}\".format(self.x,self.y)\n",
        "    else :\n",
        "      return \"x: {:.2f}, y: {:.2f},z: {:.2f}\".format(self.x,self.y,self.z)\n",
        "\n",
        "p1 = Point(1,3,6)\n",
        "#p1.ToString()\n",
        "Point(1,3)"
      ],
      "execution_count": null,
      "outputs": [
        {
          "output_type": "stream",
          "text": [
            "Affichage du compte de l'utilisateur\n",
            "Les coordonées du point sont ( 1.00,3.00,6.00 )\n"
          ],
          "name": "stdout"
        },
        {
          "output_type": "execute_result",
          "data": {
            "text/plain": [
              "x: 1.00, y: 3.00"
            ]
          },
          "metadata": {
            "tags": []
          },
          "execution_count": 54
        }
      ]
    },
    {
      "cell_type": "markdown",
      "metadata": {
        "id": "fmjdRtriqJa3"
      },
      "source": [
        "##Héritage"
      ]
    },
    {
      "cell_type": "code",
      "metadata": {
        "id": "70C1C_4oqOm-"
      },
      "source": [
        "class DateNaissance():\n",
        "  def __init__(self,jour, mois, annee):\n",
        "    self.jour = jour\n",
        "    self.mois = mois\n",
        "    self.annee = annee\n",
        "\n",
        "  def _getJour(self):\n",
        "    return str(self.jour)\n",
        "\n",
        "  def _getMois(self):\n",
        "    return str(self.mois)\n",
        "\n",
        "  def _getAnnee(self):\n",
        "    return str(self.annee)\n",
        "\n",
        "  def ToString(self):\n",
        "    print (\"Affichage de la date de naissance\")\n",
        "    date = self._getJour() + \"/\" + self._getMois() + \"/\" + self._getAnnee()\n",
        "    return \"Date de naissance: \" + date\n",
        "\n",
        "class Personne():\n",
        "  def __init__(self,nom, prenom, DateNaissance):\n",
        "    self.nom = nom\n",
        "    self.prenom = prenom\n",
        "    self.DateNaissance = DateNaissance\n",
        "\n",
        "  def Afficher(self):\n",
        "    print(\"Nom: \" + self.nom)\n",
        "    print(\"Prénom: \" + self.prenom)\n",
        "    print(self.DateNaissance.ToString())\n",
        "\n",
        "class Employe(Personne):\n",
        "  def __init__(self,nom, prenom, DateNaissance, salaire):\n",
        "    super().__init__(nom, prenom, DateNaissance)\n",
        "    self.salaire= salaire\n",
        "\n",
        "  def Afficher(self):\n",
        "    super().Afficher()\n",
        "    print(\"Salaire: \" + str(\"{:.2f}\".format(self.salaire)))\n",
        "\n",
        "class Chef(Employe):\n",
        "  def __init__(self,nom, prenom, DateNaissance, salaire, service):\n",
        "    super().__init__(nom, prenom, DateNaissance,salaire)\n",
        "    self.service= service\n",
        "\n",
        "  def Afficher(self):\n",
        "    super().Afficher()\n",
        "    print(\"Service: \"+ self.service)\n",
        "\n",
        "#P=Personne('Ilyass','Math',DateNaissance(1,7,1982))\n",
        "#P.Afficher()\n",
        "\n",
        "#P=Employe('Ilyass','Math',DateNaissance(1,7,1982),7865.5548)\n",
        "#P.Afficher()\n",
        "\n",
        "#P=Chef('Ilyass','Math',DateNaissance(1,7,1982),7865.5548,\"Ressource humaine\")\n",
        "#P.Afficher()"
      ],
      "execution_count": null,
      "outputs": []
    },
    {
      "cell_type": "markdown",
      "metadata": {
        "id": "Sot2yPnYYCBx"
      },
      "source": [
        "##Le polymorphisme"
      ]
    },
    {
      "cell_type": "code",
      "metadata": {
        "colab": {
          "base_uri": "https://localhost:8080/"
        },
        "id": "bQCLyHByYQ26",
        "outputId": "7302ff47-dd83-48fd-8655-f017941b43c2"
      },
      "source": [
        "class Courrier():\n",
        "  def __init__(self,poids,mode,adresseDestination,adresseExpedition):\n",
        "    self.poids              = poids\n",
        "    self.mode               = mode\n",
        "    self.adresseDestination = adresseDestination\n",
        "    self.adresseExpedition  = adresseExpedition\n",
        "  def _getmode(self):\n",
        "    return self.mode\n",
        "  def toString(self):\n",
        "    print(\"Adresse Destination : \" + self.adresseDestination)\n",
        "    print(\"Adresse Expedition : \"  + self.adresseExpedition)\n",
        "    print(\"Poids : \"               + str(\"{:.2f}\".format(self.poids)) + \" grammes\")\n",
        "    print(\"Mode : \"                + self.mode)\n",
        "\n",
        "class Lettre(Courrier):\n",
        "  def __init__(self, poids, mode, adresseDestination, adresseExpedition, format):\n",
        "    super().__init__(poids, mode, adresseDestination, adresseExpedition)\n",
        "    self.format = format\n",
        "\n",
        "  def toString(self):\n",
        "    super().toString()\n",
        "    print(\"Format : \" + self.format)\n",
        "    print(\"Prix du timbre : \" + str(self.calculTimbre()))\n",
        "\n",
        "  def calculTimbre(self):\n",
        "    if self.format == \"A4\":\n",
        "      base = 2.50\n",
        "    else : \n",
        "      base = 3.50\n",
        "    \n",
        "    if super()._getmode() == \"normal\" :\n",
        "      montant = base + 1.0 * self.poids\n",
        "    else :\n",
        "      montant = (base + 1.0 * self.poids) * 2\n",
        "    return montant\n",
        "\n",
        "class Colis(Courrier):\n",
        "  def __init__(self, poids, mode, adresseDestination, adresseExpedition, volume):\n",
        "    super().__init__(poids, mode, adresseDestination, adresseExpedition)\n",
        "    self.format = volume   \n",
        "\n",
        "    def calculTimbre(self):\n",
        "      if mode == \"normal\":\n",
        "        montant = 0.25 * self.volume * self.poids/1000\n",
        "      else :\n",
        "        montant = (0.25 * self.volume * self.poids/1000) * 2\n",
        "   \n",
        "L1=Lettre(80,\"normal\",\"Lille\",\"Paris\",\"A4\")\n",
        "L1.toString()"
      ],
      "execution_count": null,
      "outputs": [
        {
          "output_type": "stream",
          "text": [
            "Adresse Destination : Lille\n",
            "Adresse Expedition : Paris\n",
            "Poids : 80.00 grammes\n",
            "Mode : normal\n",
            "Format : A4\n",
            "Prix du timbre : 82.5\n"
          ],
          "name": "stdout"
        }
      ]
    },
    {
      "cell_type": "code",
      "metadata": {
        "colab": {
          "base_uri": "https://localhost:8080/"
        },
        "id": "eK0Y1s-oRbGl",
        "outputId": "f2bc3808-74b5-4e76-fff0-be5263f0450f"
      },
      "source": [
        "a = int(input())\n",
        "s = a\n",
        "for i in range(1,a):\n",
        "  s=s+a-i\n",
        "  print(s)"
      ],
      "execution_count": null,
      "outputs": [
        {
          "output_type": "stream",
          "text": [
            "5\n",
            "9\n",
            "12\n",
            "14\n",
            "15\n"
          ],
          "name": "stdout"
        }
      ]
    },
    {
      "cell_type": "code",
      "metadata": {
        "colab": {
          "base_uri": "https://localhost:8080/"
        },
        "id": "5fZZTQBhUCRA",
        "outputId": "533b79b0-6da4-471b-b4bf-dd0638e76598"
      },
      "source": [
        "a=[1,2,3,4]\n",
        "s=0\n",
        "for i in a:\n",
        "  s = s + i\n",
        "  print(s)"
      ],
      "execution_count": null,
      "outputs": [
        {
          "output_type": "stream",
          "text": [
            "1\n",
            "3\n",
            "6\n",
            "10\n"
          ],
          "name": "stdout"
        }
      ]
    },
    {
      "cell_type": "code",
      "metadata": {
        "colab": {
          "base_uri": "https://localhost:8080/"
        },
        "id": "OLXkKVpIVZao",
        "outputId": "15225be5-9fe8-4de3-a90e-257539b624a1"
      },
      "source": [
        "a=[1,2]\n",
        "b=[3,4]\n",
        "c=[]\n",
        "\n",
        "for i in range(len(a)):\n",
        "  c.append(a[i]+b[i])\n",
        "  \n",
        "print(c)"
      ],
      "execution_count": null,
      "outputs": [
        {
          "output_type": "stream",
          "text": [
            "6\n"
          ],
          "name": "stdout"
        }
      ]
    },
    {
      "cell_type": "markdown",
      "metadata": {
        "id": "7TsudVY-_jKx"
      },
      "source": [
        "## Analyse de donnée"
      ]
    },
    {
      "cell_type": "markdown",
      "metadata": {
        "id": "HlzuCwVl_wD2"
      },
      "source": [
        "## Librairy Numpy"
      ]
    },
    {
      "cell_type": "code",
      "metadata": {
        "colab": {
          "base_uri": "https://localhost:8080/"
        },
        "id": "zFQW1pJ4_tbs",
        "outputId": "11e4b69d-ad9f-4ccf-993b-6f5edbf6c022"
      },
      "source": [
        "!pip install numpy"
      ],
      "execution_count": 2,
      "outputs": [
        {
          "output_type": "stream",
          "text": [
            "Requirement already satisfied: numpy in /usr/local/lib/python3.7/dist-packages (1.19.5)\n"
          ],
          "name": "stdout"
        }
      ]
    },
    {
      "cell_type": "markdown",
      "metadata": {
        "id": "Q5l8t0yZDY2-"
      },
      "source": [
        "Tableaux"
      ]
    },
    {
      "cell_type": "code",
      "metadata": {
        "colab": {
          "base_uri": "https://localhost:8080/"
        },
        "id": "wn7KB00IBYu8",
        "outputId": "d322d321-cbe9-431b-f09c-bc4d3b833340"
      },
      "source": [
        "print ('Simple')\n",
        "\n",
        "[i for i in range(10)]\n",
        "\n"
      ],
      "execution_count": 12,
      "outputs": [
        {
          "output_type": "stream",
          "text": [
            "Simple\n"
          ],
          "name": "stdout"
        },
        {
          "output_type": "execute_result",
          "data": {
            "text/plain": [
              "[0, 1, 2, 3, 4, 5, 6, 7, 8, 9]"
            ]
          },
          "metadata": {
            "tags": []
          },
          "execution_count": 12
        }
      ]
    },
    {
      "cell_type": "code",
      "metadata": {
        "colab": {
          "base_uri": "https://localhost:8080/"
        },
        "id": "kDA9iUO8DESJ",
        "outputId": "1e642069-941b-4dcb-cf3c-725697d84539"
      },
      "source": [
        "print ('Multidimentional')\n",
        "[[i for i in range(5)] for i in range(5)]\n"
      ],
      "execution_count": 11,
      "outputs": [
        {
          "output_type": "stream",
          "text": [
            "Multidimentional\n"
          ],
          "name": "stdout"
        },
        {
          "output_type": "execute_result",
          "data": {
            "text/plain": [
              "[[0, 1, 2, 3, 4],\n",
              " [0, 1, 2, 3, 4],\n",
              " [0, 1, 2, 3, 4],\n",
              " [0, 1, 2, 3, 4],\n",
              " [0, 1, 2, 3, 4]]"
            ]
          },
          "metadata": {
            "tags": []
          },
          "execution_count": 11
        }
      ]
    },
    {
      "cell_type": "markdown",
      "metadata": {
        "id": "UvhZSi67DfBr"
      },
      "source": [
        "#Numpie"
      ]
    },
    {
      "cell_type": "code",
      "metadata": {
        "colab": {
          "base_uri": "https://localhost:8080/"
        },
        "id": "_kKO9BnnDHCM",
        "outputId": "5b08be63-79f7-4887-99be-7071bd5cc6b8"
      },
      "source": [
        "import numpy as np\n",
        "\n",
        "print('Tableau test :')\n",
        "l = [i for i in range(10)]\n",
        "print(l)\n",
        "\n",
        "ar = np.array(l,dtype=\"int8\") # déclaration de notre objet Numpie\n",
        "#On limite la place occupé en mémoire pour chaque résultat du tableau avec dtype = int8 \n",
        "#Car chacun des élément du tableau est petit donc int8 suffit (coeff 20 en place si on le met pas dans ce cas)\n",
        "\n",
        "print('Numpie Min') #Minimum\n",
        "print(ar.min())\n",
        "\n",
        "print('Numpie Max') #Maximum\n",
        "print(ar.max())\n",
        "\n",
        "print('Numpie position de l element Max') #Position du Maximum\n",
        "print(ar.argmax())\n",
        "\n",
        "print('Numpie Moyenne') #Moyenne\n",
        "print(ar.mean())\n",
        "\n",
        "print('Numpie variance') #Variance\n",
        "print(ar.std())\n",
        "\n",
        "print('Numpie type') #savoir la place alouer a chaque élements du tableau \n",
        "print(ar.dtype)\n",
        "\n",
        "print('Numpie variance') #Variance\n",
        "print(ar.std())\n",
        "\n",
        "print('Numpie mutlidimentional array') #Numpie mutlidimentional\n",
        "arMulti = np.array([[0,1,2]])\n",
        "print(arMulti)\n",
        "\n",
        "print('Numpie single array translated into mutlidimentional array')\n",
        "m2 = np.array([0,1,2,3,4],ndmin=2) # transformation du tableau en un tableau en deux dimension par Numpie\n",
        "print(m2)\n",
        "\n"
      ],
      "execution_count": 28,
      "outputs": [
        {
          "output_type": "stream",
          "text": [
            "Tableau test :\n",
            "[0, 1, 2, 3, 4, 5, 6, 7, 8, 9]\n",
            "Numpie Min\n",
            "0\n",
            "Numpie Max\n",
            "9\n",
            "Numpie Moyenne\n",
            "4.5\n",
            "Numpie variance\n",
            "2.8722813232690143\n",
            "Numpie type\n",
            "int8\n",
            "Numpie variance\n",
            "2.8722813232690143\n",
            "Numpie mutlidimentional array\n",
            "[[0 1 2]]\n",
            "Numpie single array translated into mutlidimentional array\n",
            "[[0 1 2 3 4]]\n"
          ],
          "name": "stdout"
        }
      ]
    },
    {
      "cell_type": "code",
      "metadata": {
        "colab": {
          "base_uri": "https://localhost:8080/"
        },
        "id": "Jb2TJXpJIA9i",
        "outputId": "6123db8c-b7e6-4f5f-d467-45f12176938b"
      },
      "source": [
        "import numpy as np\n",
        "\n",
        "\n",
        "ar = np.array([[0,1,2,3,4],[0,1,2,3,4]])\n",
        "\n",
        "print('Numpie Somme cumulée des éléments') #Numpie Somme cumulée element -> element = lui meme + tous ceux avant lui \n",
        "arCumSom = np.array([1,2,3,4]).cumsum()\n",
        "print(arCumSom)\n",
        "\n",
        "print('Numpie Sum des élements par colonnes') #Addition de deux tableau (matrice)\n",
        "print(sum(ar))\n",
        "\n",
        "#Shape = len \n",
        "print('Numpie crée un table de 1 possible en zeros')\n",
        "arOne = np.ones((2,4),dtype='int8')\n",
        "print(arOne)\n",
        "\n",
        "\n",
        "print(ar[1:3,0:2])\n"
      ],
      "execution_count": 37,
      "outputs": [
        {
          "output_type": "stream",
          "text": [
            "Numpie Somme cumulée des éléments\n",
            "[ 1  3  6 10]\n",
            "Numpie Sum des élements par colonnes\n",
            "[0 2 4 6 8]\n",
            "Numpie crée un table de 1 possible en zeros\n",
            "[[1 1 1 1]\n",
            " [1 1 1 1]]\n",
            "[[0 1]]\n"
          ],
          "name": "stdout"
        }
      ]
    },
    {
      "cell_type": "markdown",
      "metadata": {
        "id": "DqGij4ihR_SW"
      },
      "source": [
        "# Numpy exercices"
      ]
    },
    {
      "cell_type": "code",
      "metadata": {
        "colab": {
          "base_uri": "https://localhost:8080/"
        },
        "id": "IPvvEpWVSjxX",
        "outputId": "1be70758-45b9-473b-8ad5-94823184f813"
      },
      "source": [
        "#Q1 : Importer le package numpy\n",
        "import numpy as np\n",
        "\n",
        "#Q2 : Afficher la version de numpy et la configuration\n",
        "#print(np.version.version)\n",
        "#print(np.show_config)\n",
        "\n",
        "#Q3 : Créer un vecteur nul de taille 10\n",
        "#v1 = np.zeros(10);\n",
        "#print(v1)\n",
        "\n",
        "#Q4 : Créer un vecteur null de taille 10 et affecter la valeur 1 à la 4ème place (index 4) du vecteur\n",
        "#v1 = np.zeros(10,dtype=np.int8); # + conversion de la valeur en int (float par defaut)\n",
        "#v1[4] = 1;\n",
        "#print(v1)\n",
        "\n",
        "#Q5 : Créer un vecteur Z de 40 valeurs allant de 10 à 50\n",
        "#z1 = np.arange(start=10,stop=51)\n",
        "#print(z1)\n",
        "\n",
        "#Q6 : Inverser Z (le premier élément devient donc le dernier)\n",
        "#z1 = np.arange(start=10,stop=51)\n",
        "\n",
        "#print(z1[::-1])\n",
        "#Ou\n",
        "#np.flip(z1)\n",
        "\n",
        "#Q7 : Créer une matrice 3x3 avec des valeurs comprise entre 0 et 8   # Exemple reshape\n",
        "#x = np.arange(9).reshape((3,3));\n",
        "#print(x)\n",
        "\n",
        "#Q8 : Créer une matrice identié 3x3\n",
        "#print(np.identity(3))\n",
        "\n",
        "#np.eye(3) #Matrice diagonal \n",
        "\n",
        "#Q9 : Créer une matrice 3x3x3 avec des valeurs random\n",
        "#print(np.random.random((3,3,3)))\n",
        "\n",
        "#Q10 : Créer une matrice 10x10 avec des valeurs random et afficher le minimum et maximum de cette matrice\n",
        "#matrice = np.random.random((10,10));\n",
        "#print(matrice);\n",
        "#print('min',matrice.min());\n",
        "#print('max',matrice.max());\n",
        "\n",
        "#Q11 : Créer une matrice 5x5 avec les valeurs 1,2,3,4 en dessous de la diagonale\n",
        "#t = np.diagflat([1,2,3,4], -1)\n",
        "#print(t)\n",
        "#ou\n",
        "#print(np.diag(1+np.arange(4),k=1))\n",
        "\n",
        "#Q12 : Créer une liste random de taille 5 et donner la somme de ses éléments\n",
        "#listRdm = np.random.random(5)\n",
        "#print(listRdm.sum())\n",
        "\n",
        "#Q13 : Créer une liste random de taille 5 et donner la moyenne de ses éléments\n",
        "#print(listRdm.mean())\n",
        "\n",
        "#Q14 : En utilisant une fonction, donner la taille de la liste suivante :\n",
        "#l = [x for x in range(11)]\n",
        "#np.shape(l)\n",
        "#np.size(l, axis = 0)\n",
        "\n",
        "#Q15 : Créer un tableau de taille 10 avec des valeurs comprises entre 0 et 1 EXCLUS\n",
        "#tab = np.linspace(0,1,11,endpoint=False)[1:]\n",
        "#print(tab)\n",
        "\n",
        "#Q16 : Soit deux tableau A et B de dimension 1 et de taille 5, créer A et B et afficher True si A et B sont égaux False sinon\n",
        "#tab = [1,2,3,4,5]\n",
        "#tab2 = np.flip(tab)\n",
        "#print(tab2)\n",
        "\n",
        "#Q17 : Convertir un tableau de float32 de dimension 1 et de taille 10 en un tableau de meme taille et dimension mais de type int32\n",
        "#z = np.arange(10, dtype=np.int32)\n",
        "#print(z)\n",
        "\n",
        "#Q18 : Normaliser une matrice random 5x5\n",
        "#La normalisation d'un nombre X consiste à lui retirer sa moyenne et a diviser le tout par son écart type\n",
        "#z = np.arange(10, dtype=np.int32)\n",
        "#print(z.mean())\n",
        "\n",
        "#Q19 : Créer une matrice random M 2x2 et donner sa transposer\n",
        "#L'opération de transposition dans une matrice consiste à échanger les lignes et les colonnes.\n",
        "#Ecart type = racine carré de la variance \n",
        "\n",
        "\n",
        "#Q20 : Écrire un petit script qui remplace un élément au hasard dans une matrice de dimension NxN\n",
        "\n",
        "\n",
        "#Q21 : Considérons une matrice de dimension (5,5,3), écrire un script qui multiplie cette matrice par une matrice de dimension (5,5)\n",
        "\n"
      ],
      "execution_count": 69,
      "outputs": [
        {
          "output_type": "stream",
          "text": [
            "4.5\n"
          ],
          "name": "stdout"
        }
      ]
    },
    {
      "cell_type": "markdown",
      "metadata": {
        "id": "dPp7bB3vcru6"
      },
      "source": [
        "# Pandas exercices"
      ]
    },
    {
      "cell_type": "code",
      "metadata": {
        "colab": {
          "base_uri": "https://localhost:8080/"
        },
        "id": "NEynXXdYc1qD",
        "outputId": "94058db4-15a4-4728-c96e-9527205fc052"
      },
      "source": [
        "#Install the livrary Pandas\n",
        "pip install pandas"
      ],
      "execution_count": 1,
      "outputs": [
        {
          "output_type": "stream",
          "text": [
            "Requirement already satisfied: pandas in /usr/local/lib/python3.7/dist-packages (1.1.5)\n",
            "Requirement already satisfied: numpy>=1.15.4 in /usr/local/lib/python3.7/dist-packages (from pandas) (1.19.5)\n",
            "Requirement already satisfied: pytz>=2017.2 in /usr/local/lib/python3.7/dist-packages (from pandas) (2018.9)\n",
            "Requirement already satisfied: python-dateutil>=2.7.3 in /usr/local/lib/python3.7/dist-packages (from pandas) (2.8.1)\n",
            "Requirement already satisfied: six>=1.5 in /usr/local/lib/python3.7/dist-packages (from python-dateutil>=2.7.3->pandas) (1.15.0)\n"
          ],
          "name": "stdout"
        }
      ]
    },
    {
      "cell_type": "code",
      "metadata": {
        "colab": {
          "base_uri": "https://localhost:8080/",
          "height": 213
        },
        "id": "a6ByPb9_dCu8",
        "outputId": "e59ae691-2370-4875-fcac-bbb5cdb530e6"
      },
      "source": [
        "import pandas as pd\n",
        "import numpy as np\n",
        "\n",
        "ar = np.array([[1.1, 2, 3.3, 4], [2.7, 10, 5.4, 7], [5.3, 9, 1.5, 15]])\n",
        "df = pd.DataFrame(ar, index = ['a1', 'a2', 'a3'], columns = ['A', 'B', 'C', 'D']); \n",
        "#print(df)\n",
        "\n",
        "#print('Valeur des colonnes et index de ligne')\n",
        "#print(df.columns)\n",
        "#print(df.index)\n",
        "\n",
        "#print('Reindex')\n",
        "#print(df.reindex(columns = ['C', 'B', 'A'], index = ['a2', 'a3']))\n",
        "\n",
        "\n",
        "dico = {'A': [1.1, 2.7, 5.3], \n",
        "        'B': [2, 10, 2], \n",
        "        'C': [3.3, 5.4, 1.5], \n",
        "        'D': [4, 7, 15]}\n",
        "df = pd.DataFrame(dico, index = ['a1', 'a2', 'a3']); \n",
        "#print(df)\n",
        "\n",
        "#print('Single columns')\n",
        "#print(df.loc['a2'])\n",
        "\n",
        "#print(df.loc['a2'])\n",
        "\n",
        "\n",
        "#Liste des infos d'une dataFrame (count mean std min 25% 50% 75% max)\n",
        "#print(df.describe())\n",
        "\n",
        "#moyenne 15 \n",
        "#std = 4 = moyenne des écarts , donc tous les éleves on 15 plus ou moin 4\n",
        "#donc il existe des eleves a 11 et des eleves a 19 donc la moyenne n'est pas représentative \n",
        "\n",
        "#Lecture du fichier csv suivant un path\n",
        "#pokemon = pd.read_csv('../content/sample_data/pokemon.csv'); \n",
        "#pokemon.head(3)\n",
        "\n",
        "#Afichage des colonnes  et de la somme de leur elements égale a null \n",
        "#pokemon.isnull().sum()\n",
        "\n",
        "#le pokemon ayant le maximum d'achat \n",
        "#pokemon['hp'].max()\n",
        "#pokemon['hp'].describe() # information sur la fiabilité de l'échantillion au niveau des Hp des pokemons\n",
        "\n",
        "\n",
        "\n"
      ],
      "execution_count": 19,
      "outputs": [
        {
          "output_type": "execute_result",
          "data": {
            "text/html": [
              "<div>\n",
              "<style scoped>\n",
              "    .dataframe tbody tr th:only-of-type {\n",
              "        vertical-align: middle;\n",
              "    }\n",
              "\n",
              "    .dataframe tbody tr th {\n",
              "        vertical-align: top;\n",
              "    }\n",
              "\n",
              "    .dataframe thead th {\n",
              "        text-align: right;\n",
              "    }\n",
              "</style>\n",
              "<table border=\"1\" class=\"dataframe\">\n",
              "  <thead>\n",
              "    <tr style=\"text-align: right;\">\n",
              "      <th></th>\n",
              "      <th>abilities</th>\n",
              "      <th>against_bug</th>\n",
              "      <th>against_dark</th>\n",
              "      <th>against_dragon</th>\n",
              "      <th>against_electric</th>\n",
              "      <th>against_fairy</th>\n",
              "      <th>against_fight</th>\n",
              "      <th>against_fire</th>\n",
              "      <th>against_flying</th>\n",
              "      <th>against_ghost</th>\n",
              "      <th>against_grass</th>\n",
              "      <th>against_ground</th>\n",
              "      <th>against_ice</th>\n",
              "      <th>against_normal</th>\n",
              "      <th>against_poison</th>\n",
              "      <th>against_psychic</th>\n",
              "      <th>against_rock</th>\n",
              "      <th>against_steel</th>\n",
              "      <th>against_water</th>\n",
              "      <th>attack</th>\n",
              "      <th>base_egg_steps</th>\n",
              "      <th>base_happiness</th>\n",
              "      <th>base_total</th>\n",
              "      <th>capture_rate</th>\n",
              "      <th>classfication</th>\n",
              "      <th>defense</th>\n",
              "      <th>experience_growth</th>\n",
              "      <th>height_m</th>\n",
              "      <th>hp</th>\n",
              "      <th>japanese_name</th>\n",
              "      <th>name</th>\n",
              "      <th>percentage_male</th>\n",
              "      <th>pokedex_number</th>\n",
              "      <th>sp_attack</th>\n",
              "      <th>sp_defense</th>\n",
              "      <th>speed</th>\n",
              "      <th>type1</th>\n",
              "      <th>type2</th>\n",
              "      <th>weight_kg</th>\n",
              "      <th>generation</th>\n",
              "      <th>is_legendary</th>\n",
              "    </tr>\n",
              "  </thead>\n",
              "  <tbody>\n",
              "    <tr>\n",
              "      <th>0</th>\n",
              "      <td>['Overgrow', 'Chlorophyll']</td>\n",
              "      <td>1.0</td>\n",
              "      <td>1.0</td>\n",
              "      <td>1.0</td>\n",
              "      <td>0.5</td>\n",
              "      <td>0.5</td>\n",
              "      <td>0.5</td>\n",
              "      <td>2.0</td>\n",
              "      <td>2.0</td>\n",
              "      <td>1.0</td>\n",
              "      <td>0.25</td>\n",
              "      <td>1.0</td>\n",
              "      <td>2.0</td>\n",
              "      <td>1.0</td>\n",
              "      <td>1.0</td>\n",
              "      <td>2.0</td>\n",
              "      <td>1.0</td>\n",
              "      <td>1.0</td>\n",
              "      <td>0.5</td>\n",
              "      <td>49</td>\n",
              "      <td>5120</td>\n",
              "      <td>70</td>\n",
              "      <td>318</td>\n",
              "      <td>45</td>\n",
              "      <td>Seed Pokémon</td>\n",
              "      <td>49</td>\n",
              "      <td>1059860</td>\n",
              "      <td>0.7</td>\n",
              "      <td>45</td>\n",
              "      <td>Fushigidaneフシギダネ</td>\n",
              "      <td>Bulbasaur</td>\n",
              "      <td>88.1</td>\n",
              "      <td>1</td>\n",
              "      <td>65</td>\n",
              "      <td>65</td>\n",
              "      <td>45</td>\n",
              "      <td>grass</td>\n",
              "      <td>poison</td>\n",
              "      <td>6.9</td>\n",
              "      <td>1</td>\n",
              "      <td>0</td>\n",
              "    </tr>\n",
              "    <tr>\n",
              "      <th>1</th>\n",
              "      <td>['Overgrow', 'Chlorophyll']</td>\n",
              "      <td>1.0</td>\n",
              "      <td>1.0</td>\n",
              "      <td>1.0</td>\n",
              "      <td>0.5</td>\n",
              "      <td>0.5</td>\n",
              "      <td>0.5</td>\n",
              "      <td>2.0</td>\n",
              "      <td>2.0</td>\n",
              "      <td>1.0</td>\n",
              "      <td>0.25</td>\n",
              "      <td>1.0</td>\n",
              "      <td>2.0</td>\n",
              "      <td>1.0</td>\n",
              "      <td>1.0</td>\n",
              "      <td>2.0</td>\n",
              "      <td>1.0</td>\n",
              "      <td>1.0</td>\n",
              "      <td>0.5</td>\n",
              "      <td>62</td>\n",
              "      <td>5120</td>\n",
              "      <td>70</td>\n",
              "      <td>405</td>\n",
              "      <td>45</td>\n",
              "      <td>Seed Pokémon</td>\n",
              "      <td>63</td>\n",
              "      <td>1059860</td>\n",
              "      <td>1.0</td>\n",
              "      <td>60</td>\n",
              "      <td>Fushigisouフシギソウ</td>\n",
              "      <td>Ivysaur</td>\n",
              "      <td>88.1</td>\n",
              "      <td>2</td>\n",
              "      <td>80</td>\n",
              "      <td>80</td>\n",
              "      <td>60</td>\n",
              "      <td>grass</td>\n",
              "      <td>poison</td>\n",
              "      <td>13.0</td>\n",
              "      <td>1</td>\n",
              "      <td>0</td>\n",
              "    </tr>\n",
              "    <tr>\n",
              "      <th>2</th>\n",
              "      <td>['Overgrow', 'Chlorophyll']</td>\n",
              "      <td>1.0</td>\n",
              "      <td>1.0</td>\n",
              "      <td>1.0</td>\n",
              "      <td>0.5</td>\n",
              "      <td>0.5</td>\n",
              "      <td>0.5</td>\n",
              "      <td>2.0</td>\n",
              "      <td>2.0</td>\n",
              "      <td>1.0</td>\n",
              "      <td>0.25</td>\n",
              "      <td>1.0</td>\n",
              "      <td>2.0</td>\n",
              "      <td>1.0</td>\n",
              "      <td>1.0</td>\n",
              "      <td>2.0</td>\n",
              "      <td>1.0</td>\n",
              "      <td>1.0</td>\n",
              "      <td>0.5</td>\n",
              "      <td>100</td>\n",
              "      <td>5120</td>\n",
              "      <td>70</td>\n",
              "      <td>625</td>\n",
              "      <td>45</td>\n",
              "      <td>Seed Pokémon</td>\n",
              "      <td>123</td>\n",
              "      <td>1059860</td>\n",
              "      <td>2.0</td>\n",
              "      <td>80</td>\n",
              "      <td>Fushigibanaフシギバナ</td>\n",
              "      <td>Venusaur</td>\n",
              "      <td>88.1</td>\n",
              "      <td>3</td>\n",
              "      <td>122</td>\n",
              "      <td>120</td>\n",
              "      <td>80</td>\n",
              "      <td>grass</td>\n",
              "      <td>poison</td>\n",
              "      <td>100.0</td>\n",
              "      <td>1</td>\n",
              "      <td>0</td>\n",
              "    </tr>\n",
              "  </tbody>\n",
              "</table>\n",
              "</div>"
            ],
            "text/plain": [
              "                     abilities  against_bug  ...  generation  is_legendary\n",
              "0  ['Overgrow', 'Chlorophyll']          1.0  ...           1             0\n",
              "1  ['Overgrow', 'Chlorophyll']          1.0  ...           1             0\n",
              "2  ['Overgrow', 'Chlorophyll']          1.0  ...           1             0\n",
              "\n",
              "[3 rows x 41 columns]"
            ]
          },
          "metadata": {
            "tags": []
          },
          "execution_count": 19
        }
      ]
    },
    {
      "cell_type": "markdown",
      "metadata": {
        "id": "IbwaqT574KD-"
      },
      "source": [
        "#Exercice pandas"
      ]
    },
    {
      "cell_type": "code",
      "metadata": {
        "colab": {
          "base_uri": "https://localhost:8080/",
          "height": 1000
        },
        "id": "ENLHWHxm4JhG",
        "outputId": "72ce7a3b-97dc-4584-a376-3a7eb4b8f426"
      },
      "source": [
        "import pandas as pd\n",
        "import numpy as np\n",
        "import seaborn as sns\n",
        "\n",
        "house = pd.read_csv('../content/sample_data/house_pricing.csv'); \n",
        "\n",
        "#house.describe(include= 'all')\n",
        "\n",
        "#house.info()\n",
        "\n",
        "# Apply the default theme\n",
        "#sns.set_theme()\n",
        "#house = house[house['SalePrice']<500000]\n",
        "#house = house[house['LotArea']<20000]\n",
        "\n",
        "# Create a visualization\n",
        "#sns.relplot(\n",
        "#    data=house.loc[:,['LotArea','SalePrice']] \n",
        "#)\n",
        "\n",
        "\n",
        "# Apply the default theme\n",
        "sns.set_theme()\n",
        "house = house[house['LotFrontage']<200]\n",
        "house = house[house['LotArea']<100000]\n",
        "# Create a visualization\n",
        "sns.relplot(\n",
        "    data=house.loc[:,['LotArea','LotFrontage']] \n",
        ")\n",
        "\n",
        "# Apply the default theme\n",
        "sns.set_theme()\n",
        "\n",
        "# Create a visualization\n",
        "sns.relplot(\n",
        "   \n",
        "    data=house.loc[:,['LotArea']] \n",
        ")\n",
        "\n",
        "# Apply the default theme\n",
        "sns.set_theme()\n",
        "\n",
        "# Create a visualization\n",
        "sns.relplot(\n",
        "   \n",
        "    data=house.loc[:,['LotFrontage']] \n",
        ")\n",
        "\n",
        "#On peut en conclure que les echantillions de LotArea sont plus homogéne et donc plus représentatifs\n",
        "#Que les echantillions de la colonne SalePrice\n",
        "\n",
        "\n",
        "\n",
        "#Pour l'échantilions Lot Area par rapporta LorFrontage on peut dire que LotFrontage est plus réprésentative car\n",
        "#Ses valeurs sont plus grouper autour de 10 000 alors que LotArea a des valeur bien plus diférentes les unes des autres\n",
        "\n",
        "\n"
      ],
      "execution_count": 71,
      "outputs": [
        {
          "output_type": "execute_result",
          "data": {
            "text/plain": [
              "<seaborn.axisgrid.FacetGrid at 0x7fc7dfb5ed10>"
            ]
          },
          "metadata": {
            "tags": []
          },
          "execution_count": 71
        },
        {
          "output_type": "display_data",
          "data": {
            "image/png": "[encoded data removed]",
            "text/plain": [
              "<Figure size 465.35x360 with 1 Axes>"
            ]
          },
          "metadata": {
            "tags": []
          }
        },
        {
          "output_type": "display_data",
          "data": {
            "image/png": "[encoded data removed]",
            "text/plain": [
              "<Figure size 442.1x360 with 1 Axes>"
            ]
          },
          "metadata": {
            "tags": []
          }
        },
        {
          "output_type": "display_data",
          "data": {
            "image/png": "[encoded data removed]",
            "text/plain": [
              "<Figure size 465.35x360 with 1 Axes>"
            ]
          },
          "metadata": {
            "tags": []
          }
        }
      ]
    }
  ]
}