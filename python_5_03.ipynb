{
  "nbformat": 4,
  "nbformat_minor": 0,
  "metadata": {
    "colab": {
      "name": "python-5-03.ipynb",
      "provenance": [],
      "collapsed_sections": [],
      "toc_visible": true
    },
    "kernelspec": {
      "name": "python3",
      "display_name": "Python 3"
    }
  },
  "cells": [
    {
      "cell_type": "markdown",
      "metadata": {
        "id": "TLFqE7yIXbvy"
      },
      "source": [
        "# Cours de python\n"
      ]
    },
    {
      "cell_type": "markdown",
      "metadata": {
        "id": "LL7zgpoqdD2m"
      },
      "source": [
        "## syntaxe jupiter"
      ]
    },
    {
      "cell_type": "code",
      "metadata": {
        "colab": {
          "base_uri": "https://localhost:8080/"
        },
        "id": "wEZAqjkldZdW",
        "outputId": "12fc89cf-62d2-43a6-dc26-9c0dcb05e06e"
      },
      "source": [
        "print ('coucou')"
      ],
      "execution_count": null,
      "outputs": [
        {
          "output_type": "stream",
          "text": [
            "coucou\n"
          ],
          "name": "stdout"
        }
      ]
    },
    {
      "cell_type": "code",
      "metadata": {
        "colab": {
          "base_uri": "https://localhost:8080/"
        },
        "id": "AHam8N_4dj_i",
        "outputId": "be83f4ce-409f-4e01-a3a1-f365d3ecacde"
      },
      "source": [
        "a=2\n",
        "a"
      ],
      "execution_count": null,
      "outputs": [
        {
          "output_type": "execute_result",
          "data": {
            "text/plain": [
              "2"
            ]
          },
          "metadata": {
            "tags": []
          },
          "execution_count": 8
        }
      ]
    },
    {
      "cell_type": "markdown",
      "metadata": {
        "id": "kINw-iV6flJk"
      },
      "source": [
        "Entrer utilisateur"
      ]
    },
    {
      "cell_type": "code",
      "metadata": {
        "colab": {
          "base_uri": "https://localhost:8080/",
          "height": 54
        },
        "id": "XftpuGrxfKEP",
        "outputId": "7c9c5cfc-18bd-49c6-e23e-98c123978f2c"
      },
      "source": [
        "a = input()\n",
        "a\n",
        "\"\"\" Description du script\"\"\""
      ],
      "execution_count": null,
      "outputs": [
        {
          "output_type": "stream",
          "text": [
            "test\n"
          ],
          "name": "stdout"
        },
        {
          "output_type": "execute_result",
          "data": {
            "application/vnd.google.colaboratory.intrinsic+json": {
              "type": "string"
            },
            "text/plain": [
              "'test'"
            ]
          },
          "metadata": {
            "tags": []
          },
          "execution_count": 7
        }
      ]
    },
    {
      "cell_type": "markdown",
      "metadata": {
        "id": "7mJK3ZTIojSZ"
      },
      "source": [
        "## Algo"
      ]
    },
    {
      "cell_type": "markdown",
      "metadata": {
        "id": "5woZQfLwo2SX"
      },
      "source": [
        "### Exercice 1"
      ]
    },
    {
      "cell_type": "code",
      "metadata": {
        "colab": {
          "base_uri": "https://localhost:8080/"
        },
        "id": "SkZnJEm4o0db",
        "outputId": "e814136a-b51e-442d-da67-34e088f7adca"
      },
      "source": [
        "a = 1\n",
        "b = 2 \n",
        "c = a\n",
        "a = b\n",
        "b = c\n",
        "a,b"
      ],
      "execution_count": null,
      "outputs": [
        {
          "output_type": "execute_result",
          "data": {
            "text/plain": [
              "(2, 1)"
            ]
          },
          "metadata": {
            "tags": []
          },
          "execution_count": 11
        }
      ]
    },
    {
      "cell_type": "markdown",
      "metadata": {
        "id": "zWoEqQ1zpz27"
      },
      "source": [
        "### Exercice 2"
      ]
    },
    {
      "cell_type": "code",
      "metadata": {
        "colab": {
          "base_uri": "https://localhost:8080/"
        },
        "id": "TgwWQLInp_A0",
        "outputId": "2cfe4821-c6e0-4804-db01-faba44831d6a"
      },
      "source": [
        "a = input()\n",
        "s = int(a)*int(a)\n",
        "s"
      ],
      "execution_count": null,
      "outputs": [
        {
          "output_type": "stream",
          "text": [
            "4\n"
          ],
          "name": "stdout"
        },
        {
          "output_type": "execute_result",
          "data": {
            "text/plain": [
              "16"
            ]
          },
          "metadata": {
            "tags": []
          },
          "execution_count": 17
        }
      ]
    },
    {
      "cell_type": "markdown",
      "metadata": {
        "id": "W_3b21Opsvm1"
      },
      "source": [
        "### Exercice 3"
      ]
    },
    {
      "cell_type": "code",
      "metadata": {
        "colab": {
          "base_uri": "https://localhost:8080/"
        },
        "id": "1NH2Zjris1HP",
        "outputId": "341a99c0-ffb6-4ee5-9732-1e38b96196bd"
      },
      "source": [
        "a = input()\n",
        "if int(a) < 0 :\n",
        "  print('negatif')\n",
        "elif int(a) > 0 :\n",
        "  print('positif')\n",
        "else :\n",
        "  print(\"nombre non reconnu\")"
      ],
      "execution_count": null,
      "outputs": [
        {
          "output_type": "stream",
          "text": [
            "4\n",
            "positif\n"
          ],
          "name": "stdout"
        }
      ]
    },
    {
      "cell_type": "markdown",
      "metadata": {
        "id": "HJ_ZI9_WvIcz"
      },
      "source": [
        "### Exercice 4"
      ]
    },
    {
      "cell_type": "code",
      "metadata": {
        "colab": {
          "base_uri": "https://localhost:8080/"
        },
        "id": "3Ib674OTvSV2",
        "outputId": "dfd458b7-30a3-4fdc-ff38-a8dc53d53f3b"
      },
      "source": [
        "a = int(input())\n",
        "b = int(input())\n",
        "\n",
        "if a > 0 and b > 0 :\n",
        "  print('positif')\n",
        "elif a < 0 and b < 0 :\n",
        "  print('positif')\n",
        "else :\n",
        "  print('negatif')\n"
      ],
      "execution_count": null,
      "outputs": [
        {
          "output_type": "stream",
          "text": [
            "-4\n",
            "4\n",
            "negatif\n"
          ],
          "name": "stdout"
        }
      ]
    },
    {
      "cell_type": "markdown",
      "metadata": {
        "id": "1QwwLPPzxmjI"
      },
      "source": [
        "### Exercice 5"
      ]
    },
    {
      "cell_type": "code",
      "metadata": {
        "colab": {
          "base_uri": "https://localhost:8080/"
        },
        "id": "zV9YOuWFxr6_",
        "outputId": "2318e9f1-bf1a-4ba6-d209-97fec843a4d8"
      },
      "source": [
        "a = int(input())\n",
        "\n",
        "for loop in range(10):\n",
        "  a = a + 1\n",
        "  print(a)\n"
      ],
      "execution_count": null,
      "outputs": [
        {
          "output_type": "stream",
          "text": [
            "4\n",
            "5\n",
            "6\n",
            "7\n",
            "8\n",
            "9\n",
            "10\n",
            "11\n",
            "12\n",
            "13\n",
            "14\n"
          ],
          "name": "stdout"
        }
      ]
    },
    {
      "cell_type": "markdown",
      "metadata": {
        "id": "aqkr1jD2zpm7"
      },
      "source": [
        "### Exercice 6"
      ]
    },
    {
      "cell_type": "code",
      "metadata": {
        "colab": {
          "base_uri": "https://localhost:8080/"
        },
        "id": "NW1bfXkDz_jV",
        "outputId": "a94eff34-0fae-4565-9cc5-4cad8a237ea8"
      },
      "source": [
        "def test (a):\n",
        "    if(a != 1):\n",
        "        return test(a-1)+a\n",
        "    else:\n",
        "        return a\n",
        "\n",
        "test(5)"
      ],
      "execution_count": null,
      "outputs": [
        {
          "output_type": "execute_result",
          "data": {
            "text/plain": [
              "15"
            ]
          },
          "metadata": {
            "tags": []
          },
          "execution_count": 44
        }
      ]
    },
    {
      "cell_type": "markdown",
      "metadata": {
        "id": "cN2VX65y7EIr"
      },
      "source": [
        "### Exercice 7"
      ]
    },
    {
      "cell_type": "code",
      "metadata": {
        "colab": {
          "base_uri": "https://localhost:8080/"
        },
        "id": "CW-VkNjZ7N5X",
        "outputId": "5470fb54-0b35-4391-8914-700474c20dbb"
      },
      "source": [
        "liste1 = [5,6,1]\n",
        "s=0\n",
        "for i in range(len(liste1)) :\n",
        "    s=s+liste1[i]\n",
        "\n",
        "print(s)"
      ],
      "execution_count": null,
      "outputs": [
        {
          "output_type": "stream",
          "text": [
            "12\n"
          ],
          "name": "stdout"
        }
      ]
    },
    {
      "cell_type": "markdown",
      "metadata": {
        "id": "4ZgY8t-F8XUu"
      },
      "source": [
        "### Exercice 8"
      ]
    },
    {
      "cell_type": "code",
      "metadata": {
        "colab": {
          "base_uri": "https://localhost:8080/"
        },
        "id": "DT2HGo_P8lZs",
        "outputId": "f8ba3219-8da1-4c52-985a-0863cac0d4f7"
      },
      "source": [
        "liste1 =[1,2,3]\n",
        "liste2 =[4,6,7]\n",
        "liste3 = []\n",
        "\n",
        "for i,j in zip(liste1, liste2) :\n",
        "   liste3.append(i+j)\n",
        "\n",
        "print(liste3)\n"
      ],
      "execution_count": null,
      "outputs": [
        {
          "output_type": "stream",
          "text": [
            "[5, 8, 10]\n"
          ],
          "name": "stdout"
        }
      ]
    },
    {
      "cell_type": "code",
      "metadata": {
        "id": "PrdVM4jTAPAZ"
      },
      "source": [
        ""
      ],
      "execution_count": null,
      "outputs": []
    }
  ]
}